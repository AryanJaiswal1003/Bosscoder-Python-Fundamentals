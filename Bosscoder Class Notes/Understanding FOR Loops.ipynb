{
 "cells": [
  {
   "cell_type": "code",
   "execution_count": 2,
   "id": "542eaaac-b912-4e6d-a2a8-2c8aa9632002",
   "metadata": {},
   "outputs": [],
   "source": [
    "## WORKING WITH LOOPS:\n",
    "\n",
    "# [I]: FOR LOOP: -"
   ]
  },
  {
   "cell_type": "code",
   "execution_count": 3,
   "id": "c46342af-11b4-4e7a-ab88-9356042a3d4e",
   "metadata": {},
   "outputs": [
    {
     "name": "stdout",
     "output_type": "stream",
     "text": [
      "14\n",
      "13\n",
      "12\n",
      "11\n",
      "10\n",
      "9\n",
      "8\n",
      "7\n",
      "6\n",
      "5\n"
     ]
    }
   ],
   "source": [
    "for i in range(14, 4, -1):\n",
    "    print(i)"
   ]
  },
  {
   "cell_type": "code",
   "execution_count": 4,
   "id": "51767adb-faf0-4728-8ddd-776cbe7fc00e",
   "metadata": {},
   "outputs": [
    {
     "name": "stdout",
     "output_type": "stream",
     "text": [
      "14\n",
      "12\n",
      "10\n",
      "8\n",
      "6\n"
     ]
    }
   ],
   "source": [
    "# Step used for increment\n",
    "for i in range(14, 4, -2):\n",
    "    print(i)"
   ]
  },
  {
   "cell_type": "code",
   "execution_count": 5,
   "id": "5015ee52-587b-4d69-99f6-7fff01972a2f",
   "metadata": {},
   "outputs": [
    {
     "name": "stdout",
     "output_type": "stream",
     "text": [
      "362880\n"
     ]
    }
   ],
   "source": [
    "# FINDING THE FACTORIAL OF NUMBER: -\n",
    "p = 1\n",
    "for i in range(1, 10):\n",
    "    p *= i\n",
    "print(p)"
   ]
  },
  {
   "cell_type": "code",
   "execution_count": 6,
   "id": "34394c7f-be4c-4818-8f86-8660969dc398",
   "metadata": {},
   "outputs": [
    {
     "name": "stdout",
     "output_type": "stream",
     "text": [
      "2\n",
      "4\n",
      "6\n",
      "8\n",
      "10\n",
      "12\n",
      "14\n",
      "16\n",
      "18\n",
      "20\n"
     ]
    }
   ],
   "source": [
    "# Q1. Print all even numbers from 1 to 20 using for and range()?\n",
    "for p in range(1, 21):\n",
    "    if p % 2 == 0:\n",
    "        print(p)"
   ]
  },
  {
   "cell_type": "code",
   "execution_count": 7,
   "id": "be007fb4-b975-4e64-8170-de72a0471083",
   "metadata": {},
   "outputs": [
    {
     "name": "stdout",
     "output_type": "stream",
     "text": [
      "The sum of numbers from 1 to 50 is: 1275\n"
     ]
    }
   ],
   "source": [
    "# Q2: Find the sum of numbers from 1 to 50?\n",
    "total = 0\n",
    "for p in range(1, 51):\n",
    "    total += p\n",
    "print(f\"The sum of numbers from 1 to 50 is: {total}\")"
   ]
  },
  {
   "cell_type": "code",
   "execution_count": 8,
   "id": "f316be17-5cf8-4119-a7ed-5d2eed1c1eaf",
   "metadata": {},
   "outputs": [
    {
     "name": "stdout",
     "output_type": "stream",
     "text": [
      "7 * 1 = 7\n",
      "7 * 2 = 14\n",
      "7 * 3 = 21\n",
      "7 * 4 = 28\n",
      "7 * 5 = 35\n",
      "7 * 6 = 42\n",
      "7 * 7 = 49\n",
      "7 * 8 = 56\n",
      "7 * 9 = 63\n",
      "7 * 10 = 70\n"
     ]
    }
   ],
   "source": [
    "# Q3. Print the multiplication table of 7?\n",
    "n = 7\n",
    "for a in range(1, 11):\n",
    "    i = n * a\n",
    "    print(f\"7 * {a} = {i}\")"
   ]
  },
  {
   "cell_type": "code",
   "execution_count": 9,
   "id": "5cb62eb1-684f-4588-9cec-f90a69972cb4",
   "metadata": {},
   "outputs": [
    {
     "name": "stdout",
     "output_type": "stream",
     "text": [
      "10\n",
      "9\n",
      "8\n",
      "7\n",
      "6\n",
      "5\n",
      "4\n",
      "3\n",
      "2\n",
      "1\n"
     ]
    }
   ],
   "source": [
    "# Q4. Print numbers from 10 down to 1 (reverse loop)?\n",
    "for num in range(10, 0, -1):\n",
    "    print(num)"
   ]
  },
  {
   "cell_type": "code",
   "execution_count": 18,
   "id": "8af24c3a-bed6-4d0c-83fd-593f978fda8a",
   "metadata": {},
   "outputs": [
    {
     "name": "stdout",
     "output_type": "stream",
     "text": [
      "Even Number\n",
      "Divisible by 5\n"
     ]
    }
   ],
   "source": [
    "# Q5. Ask the user for a number. Print whether it is odd/even and also if it is divisible by 5?\n",
    "user_input = int(input(\"Enter a Number: \"))\n",
    "\n",
    "# Check if even or odd\n",
    "if user_input % 2 == 0:\n",
    "    print(\"Even Number\")\n",
    "else:\n",
    "    print(\"Odd Number\")\n",
    "\n",
    "# Check if divisible by 5\n",
    "if user_input % 5 == 0:\n",
    "    print(\"Divisible by 5\")"
   ]
  },
  {
   "cell_type": "code",
   "execution_count": null,
   "id": "3a1a5a93-0219-4ad0-94ff-ef0cdcf037b3",
   "metadata": {},
   "outputs": [
    {
     "name": "stdout",
     "output_type": "stream",
     "text": [
      "Enter a Year:  2024\n"
     ]
    },
    {
     "name": "stdout",
     "output_type": "stream",
     "text": [
      "Leap\n"
     ]
    }
   ],
   "source": [
    "# Q6: Ask for a year and check if it’s a leap year?\n",
    "user_input = int(input(\"Enter a Year: \"))\n",
    "\n",
    "if user_input % 4 == 0:\n",
    "    if user_input % 100 == 0:\n",
    "        if user_input % 400 == 0:\n",
    "            print(\"Leap Year\")  \n",
    "        else:\n",
    "            print(\"Not Leap\")   \n",
    "    else:\n",
    "        print(\"Leap\")           \n",
    "else:\n",
    "    print(\"Not Leap\")"
   ]
  },
  {
   "cell_type": "code",
   "execution_count": null,
   "id": "4522cab7-3423-401d-923f-e4dd02712ac6",
   "metadata": {},
   "outputs": [
    {
     "name": "stdout",
     "output_type": "stream",
     "text": [
      "Enter First Number:  50\n",
      "Choose an Operator [+, -, *, /]:  /\n",
      "Enter First Number:  2\n"
     ]
    },
    {
     "name": "stdout",
     "output_type": "stream",
     "text": [
      "The Answer is 50.0/2.0 = 25.0\n"
     ]
    }
   ],
   "source": [
    "# Q7: Ask user for two numbers and an operator (+, -, *, /). Perform the calculation?\n",
    "num1 = float(input(\"Enter First Number: \"))\n",
    "operator = input(\"Choose an Operator [+, -, *, /]: \")\n",
    "num2 = float(input(\"Enter First Number: \"))\n",
    "answer = 0\n",
    "\n",
    "if operator == '+':\n",
    "    answer = num1 + num2\n",
    "elif operator == '-':\n",
    "    answer = num1 - num2\n",
    "elif operator == '*':\n",
    "    answer = num1 * num2\n",
    "else:\n",
    "    answer = num1 / num2\n",
    "print(f\"The Answer is {num1}{operator}{num2} = {answer}\")"
   ]
  },
  {
   "cell_type": "code",
   "execution_count": null,
   "id": "aab6f25c-c78c-4bca-99fd-dad1488fccbc",
   "metadata": {},
   "outputs": [
    {
     "name": "stdout",
     "output_type": "stream",
     "text": [
      "Enter a Range:  20\n"
     ]
    },
    {
     "name": "stdout",
     "output_type": "stream",
     "text": [
      "1\n",
      "3\n",
      "5\n",
      "7\n",
      "9\n",
      "11\n",
      "13\n",
      "15\n",
      "17\n",
      "19\n"
     ]
    }
   ],
   "source": [
    "# Q8: Print all odd numbers between a range given by user?\n",
    "user_input = int(input(\"Enter a Range: \"))\n",
    "for num in range(user_input):\n",
    "    if num % 2 != 0:\n",
    "        print(num)"
   ]
  },
  {
   "cell_type": "code",
   "execution_count": null,
   "id": "3722d288-a5b2-4eac-b612-1b6d4b7d9445",
   "metadata": {},
   "outputs": [
    {
     "name": "stdout",
     "output_type": "stream",
     "text": [
      "15\n",
      "30\n",
      "45\n",
      "60\n",
      "75\n",
      "90\n",
      "Total Numbers divisible by both 3 & 5 are: 6\n"
     ]
    }
   ],
   "source": [
    "# Q9: Count how many numbers between 1–100 are divisible by both 3 and 5?\n",
    "a = []\n",
    "for num in range(1, 101):\n",
    "    if num % 3 == 0 and num % 5 == 0:\n",
    "        a.append(num)\n",
    "        print(num)\n",
    "print(f\"Total Numbers divisible by both 3 & 5 are: {len(a)}\")"
   ]
  },
  {
   "cell_type": "code",
   "execution_count": null,
   "id": "655e8bc3-f06c-4be3-a26b-c7326809d47f",
   "metadata": {},
   "outputs": [
    {
     "name": "stdout",
     "output_type": "stream",
     "text": [
      "1\n",
      "4\n",
      "9\n",
      "16\n",
      "25\n",
      "36\n",
      "49\n",
      "64\n",
      "81\n",
      "100\n"
     ]
    }
   ],
   "source": [
    "# Q10. Print squares of numbers from 1 to 10.?\n",
    "a = 0\n",
    "for num in range(1, 11):\n",
    "    a = num ** 2\n",
    "    print(a)"
   ]
  },
  {
   "cell_type": "code",
   "execution_count": null,
   "id": "e9a1e2b3-931e-4c74-80b3-43713d2a819b",
   "metadata": {},
   "outputs": [
    {
     "name": "stdout",
     "output_type": "stream",
     "text": [
      "[5, 10, 15, 20, 25, 30, 35, 40, 45, 50]\n"
     ]
    }
   ],
   "source": [
    "# Q11: Print the first 10 multiples of 5 in one line?\n",
    "num = []\n",
    "\n",
    "for multiples in range(1, 11):\n",
    "    a = multiples * 5\n",
    "    num.append(a)\n",
    "print(num)"
   ]
  },
  {
   "cell_type": "code",
   "execution_count": null,
   "id": "22aefad3-b22d-459e-bbc6-d8f95b1e34f7",
   "metadata": {},
   "outputs": [
    {
     "name": "stdout",
     "output_type": "stream",
     "text": [
      "Enter a Number:   10\n"
     ]
    },
    {
     "name": "stdout",
     "output_type": "stream",
     "text": [
      "3628800\n"
     ]
    }
   ],
   "source": [
    "# Q12. Calculate factorial of a user given number?\n",
    "user_input = int(input(\"Enter a Number:  \"))\n",
    "factorial = 1\n",
    "\n",
    "for number in range(1, user_input + 1):\n",
    "    factorial *= number\n",
    "print(factorial)"
   ]
  },
  {
   "cell_type": "code",
   "execution_count": null,
   "id": "83e48c08-44e0-442f-ac53-aab50a5a55cc",
   "metadata": {},
   "outputs": [
    {
     "name": "stdout",
     "output_type": "stream",
     "text": [
      "56\n",
      "63\n",
      "70\n",
      "77\n",
      "84\n",
      "91\n",
      "98\n"
     ]
    }
   ],
   "source": [
    "# Q13. Print numbers divisible by 7 between 50 and 100?\n",
    "for number in range(50, 101):\n",
    "    if number % 7 == 0:\n",
    "        print(number)"
   ]
  },
  {
   "cell_type": "code",
   "execution_count": null,
   "id": "1ad2672d-892e-4a2b-96d6-f5f524ff830b",
   "metadata": {},
   "outputs": [
    {
     "name": "stdout",
     "output_type": "stream",
     "text": [
      "Available Balance: Rs.5000\n"
     ]
    },
    {
     "name": "stdout",
     "output_type": "stream",
     "text": [
      "Enter the Amount you want to Withdraw: Rs.  4000\n"
     ]
    },
    {
     "name": "stdout",
     "output_type": "stream",
     "text": [
      "Withdrawal successful. New balance: Rs.1000\n"
     ]
    }
   ],
   "source": [
    "# Q14. If account balance = 5000, ask withdrawal amount. If withdrawal > balance → \"Insufficient balance\". Otherwise, show new balance?\n",
    "\n",
    "account_balance = 5000\n",
    "print(f\"Available Balance: Rs.{account_balance}\")\n",
    "\n",
    "withdrawal_amt = int(input(\"Enter the Amount you want to Withdraw: Rs. \"))\n",
    "if withdrawal_amt > account_balance:\n",
    "    print(\"Insufficient Funds!!\")\n",
    "else:\n",
    "    account_balance -= withdrawal_amt\n",
    "    print(f\"Withdrawal successful. New balance: Rs.{account_balance}\")"
   ]
  },
  {
   "cell_type": "code",
   "execution_count": null,
   "id": "2ed5ea71-8ae9-468c-99df-b00da0783990",
   "metadata": {},
   "outputs": [
    {
     "name": "stdout",
     "output_type": "stream",
     "text": [
      "Enter Marks Obtained [out of 100]:  80\n",
      "Enter Marks Obtained [out of 100]:  50\n",
      "Enter Marks Obtained [out of 100]:  30\n"
     ]
    },
    {
     "name": "stdout",
     "output_type": "stream",
     "text": [
      "Average\n"
     ]
    }
   ],
   "source": [
    "# Q15. Take marks of 3 subjects, calculate percentage, and assign result. ≥ 90 → Excellent, 75–89 → Good, 50–74 → Average, Below 50 → Fail?\n",
    "sub1 = float(input(\"Enter Marks Obtained [out of 100]: \"))\n",
    "sub2 = float(input(\"Enter Marks Obtained [out of 100]: \"))\n",
    "sub3 = float(input(\"Enter Marks Obtained [out of 100]: \"))\n",
    "\n",
    "total_marks_obtained = sub1 + sub2 + sub3\n",
    "percentage = round((total_marks_obtained / 300) * 100, 2)\n",
    "\n",
    "if percentage >= 90.00:\n",
    "    print(\"Excellent\")\n",
    "elif percentage >= 75.00:\n",
    "    print(\"Good\")\n",
    "elif percentage >= 50.00:\n",
    "    print(\"Average\")\n",
    "else:\n",
    "    print(\"Fail\")"
   ]
  },
  {
   "cell_type": "code",
   "execution_count": 11,
   "id": "d39d22d8-4b88-44eb-96ca-24fa7fd17cfc",
   "metadata": {},
   "outputs": [],
   "source": [
    "# NEW CLASS:\n",
    "# Nested Loops - Putting one loop inside another loop"
   ]
  },
  {
   "cell_type": "code",
   "execution_count": 12,
   "id": "69fbe831",
   "metadata": {},
   "outputs": [
    {
     "name": "stdout",
     "output_type": "stream",
     "text": [
      "0\n",
      "0\n",
      "1\n",
      "2\n",
      "3\n",
      "4\n",
      "1\n",
      "0\n",
      "1\n",
      "2\n",
      "3\n",
      "4\n",
      "2\n",
      "0\n",
      "1\n",
      "2\n",
      "3\n",
      "4\n",
      "3\n",
      "0\n",
      "1\n",
      "2\n",
      "3\n",
      "4\n",
      "4\n",
      "0\n",
      "1\n",
      "2\n",
      "3\n",
      "4\n"
     ]
    }
   ],
   "source": [
    "for i in range(5):\n",
    "    print(i)\n",
    "    for j in range(5):\n",
    "        print(j)"
   ]
  },
  {
   "cell_type": "code",
   "execution_count": 13,
   "id": "1e3e93da",
   "metadata": {},
   "outputs": [
    {
     "name": "stdout",
     "output_type": "stream",
     "text": [
      "1 * 1 = 1\n",
      "1 * 2 = 2\n",
      "1 * 3 = 3\n",
      "1 * 4 = 4\n",
      "1 * 5 = 5\n",
      "2 * 1 = 2\n",
      "2 * 2 = 4\n",
      "2 * 3 = 6\n",
      "2 * 4 = 8\n",
      "2 * 5 = 10\n",
      "3 * 1 = 3\n",
      "3 * 2 = 6\n",
      "3 * 3 = 9\n",
      "3 * 4 = 12\n",
      "3 * 5 = 15\n",
      "4 * 1 = 4\n",
      "4 * 2 = 8\n",
      "4 * 3 = 12\n",
      "4 * 4 = 16\n",
      "4 * 5 = 20\n",
      "5 * 1 = 5\n",
      "5 * 2 = 10\n",
      "5 * 3 = 15\n",
      "5 * 4 = 20\n",
      "5 * 5 = 25\n"
     ]
    }
   ],
   "source": [
    "# Multiplication Table\n",
    "\n",
    "for i in range(1, 6):\n",
    "    for j in range(1, 6):\n",
    "        print(f\"{i} * {j} = {i*j}\")"
   ]
  },
  {
   "cell_type": "code",
   "execution_count": 14,
   "id": "d3750593",
   "metadata": {},
   "outputs": [
    {
     "name": "stdout",
     "output_type": "stream",
     "text": [
      "Count is: 1\n",
      "Count is: 2\n",
      "Count is: 3\n",
      "Count is: 4\n",
      "Count is: 5\n"
     ]
    }
   ],
   "source": [
    "# While Loop - Keeps running until a condition is true or false\n",
    "\n",
    "c = 1\n",
    "while c <= 5:\n",
    "    print(f\"Count is: {c}\")\n",
    "    c += 1"
   ]
  },
  {
   "cell_type": "code",
   "execution_count": 1,
   "id": "d0262253",
   "metadata": {},
   "outputs": [
    {
     "name": "stdout",
     "output_type": "stream",
     "text": [
      "* * * * * *\n",
      "* * * * * *\n",
      "* * * * * *\n",
      "* * * * * *\n",
      "* * * * * *\n"
     ]
    }
   ],
   "source": [
    "# Q1: Print a square pattern of star 5 * 5?\n",
    "\n",
    "for i in range(5):\n",
    "    for j in range(5):\n",
    "        print(\"*\", end= \" \")\n",
    "    print(\"*\")"
   ]
  },
  {
   "cell_type": "code",
   "execution_count": null,
   "id": "b04073bf",
   "metadata": {},
   "outputs": [
    {
     "name": "stdout",
     "output_type": "stream",
     "text": [
      "p\n",
      "y\n",
      "h\n",
      "o\n",
      "n\n"
     ]
    }
   ],
   "source": [
    "word = \"python\"\n",
    "\n",
    "for letter in word:\n",
    "    if letter != \"t\":\n",
    "        print(letter)"
   ]
  }
 ],
 "metadata": {
  "kernelspec": {
   "display_name": "base",
   "language": "python",
   "name": "python3"
  },
  "language_info": {
   "codemirror_mode": {
    "name": "ipython",
    "version": 3
   },
   "file_extension": ".py",
   "mimetype": "text/x-python",
   "name": "python",
   "nbconvert_exporter": "python",
   "pygments_lexer": "ipython3",
   "version": "3.13.5"
  }
 },
 "nbformat": 4,
 "nbformat_minor": 5
}
