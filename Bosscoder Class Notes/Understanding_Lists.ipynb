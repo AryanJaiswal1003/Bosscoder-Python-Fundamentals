{
 "cells": [
  {
   "cell_type": "code",
   "execution_count": 1,
   "id": "e9763059",
   "metadata": {},
   "outputs": [],
   "source": [
    "# LIST, TUPLES, DICTIONARIES, SETS"
   ]
  },
  {
   "cell_type": "code",
   "execution_count": 2,
   "id": "4dc8254d",
   "metadata": {},
   "outputs": [
    {
     "data": {
      "text/plain": [
       "'\\n## Properties of list []\\n\\n1. **Ordered Elements**  \\n   - The items in a list are stored in a specific order.  \\n   - When you add elements, they keep their position.  \\n   - Example: `[10, 20, 30]` — 10 is always first, 20 is second, 30 is third.\\n\\n2. **Mutable (Can Change)**  \\n   - You can change the contents of a list after you create it.  \\n   - You can add new items, remove items, or update existing items.  \\n   - Example:  \\n     ```python\\n     my_list = [1, 2, 3]\\n     my_list.append(4)      # Adds 4\\n     my_list[0] = 10        # Changes first item to 10\\n     my_list.remove(2)      # Removes 2\\n     print(my_list)         # Output: [10, 3, 4]\\n     ```\\n\\n3. **Allows Duplicates**  \\n   - Lists can have the same value more than once.  \\n   - Example: `[1, 2, 2, 3]` — 2 appears twice.\\n\\n4. **Heterogeneous (Different Types)**  \\n   - Lists can store different types of data together.  \\n   - Example: `[1, \"hello\", 3.14, True]` — contains an integer, a string, a float, and a boolean.\\n\\n**Summary:**  \\nA list is like a flexible container that keeps things in order, lets you change what’s inside, allows repeats, and can hold many kinds of items.\\n'"
      ]
     },
     "execution_count": 2,
     "metadata": {},
     "output_type": "execute_result"
    }
   ],
   "source": [
    "\"\"\"\n",
    "## Properties of list []\n",
    "\n",
    "1. **Ordered Elements**  \n",
    "   - The items in a list are stored in a specific order.  \n",
    "   - When you add elements, they keep their position.  \n",
    "   - Example: `[10, 20, 30]` — 10 is always first, 20 is second, 30 is third.\n",
    "\n",
    "2. **Mutable (Can Change)**  \n",
    "   - You can change the contents of a list after you create it.  \n",
    "   - You can add new items, remove items, or update existing items.  \n",
    "   - Example:  \n",
    "     ```python\n",
    "     my_list = [1, 2, 3]\n",
    "     my_list.append(4)      # Adds 4\n",
    "     my_list[0] = 10        # Changes first item to 10\n",
    "     my_list.remove(2)      # Removes 2\n",
    "     print(my_list)         # Output: [10, 3, 4]\n",
    "     ```\n",
    "\n",
    "3. **Allows Duplicates**  \n",
    "   - Lists can have the same value more than once.  \n",
    "   - Example: `[1, 2, 2, 3]` — 2 appears twice.\n",
    "\n",
    "4. **Heterogeneous (Different Types)**  \n",
    "   - Lists can store different types of data together.  \n",
    "   - Example: `[1, \"hello\", 3.14, True]` — contains an integer, a string, a float, and a boolean.\n",
    "\n",
    "**Summary:**  \n",
    "A list is like a flexible container that keeps things in order, lets you change what’s inside, allows repeats, and can hold many kinds of items.\n",
    "\"\"\""
   ]
  },
  {
   "cell_type": "code",
   "execution_count": 4,
   "id": "369596db",
   "metadata": {},
   "outputs": [
    {
     "name": "stdout",
     "output_type": "stream",
     "text": [
      "papaya\n"
     ]
    }
   ],
   "source": [
    "## Indexing in List:\n",
    "\n",
    "my_list = ['apple', 'orange', 'banana', 'grapes', 'papaya']\n",
    "\n",
    "#element = my_list[0] --> Can store list values in a variable\n",
    "#print(element) \n",
    "\n",
    "print(my_list[-1])"
   ]
  },
  {
   "cell_type": "code",
   "execution_count": 7,
   "id": "821492d2",
   "metadata": {},
   "outputs": [
    {
     "name": "stdout",
     "output_type": "stream",
     "text": [
      "Output_1: ['orange', 'banana', 'grapes']\n",
      "Output_2: ['apple', 'banana', 'papaya']\n"
     ]
    }
   ],
   "source": [
    "# SLICING OPERATION IN LIST [start (Inclusive): end (Exclusive): step (optional)]\n",
    "\n",
    "my_list = ['apple', 'orange', 'banana', 'grapes', 'papaya']\n",
    "\n",
    "print(\"Output_1:\", my_list[1:4])\n",
    "print(\"Output_2:\", my_list[0:5:2]) # Using Step Operator"
   ]
  },
  {
   "cell_type": "code",
   "execution_count": 8,
   "id": "41fe5170",
   "metadata": {},
   "outputs": [
    {
     "name": "stdout",
     "output_type": "stream",
     "text": [
      "['papaya', 'grapes']\n"
     ]
    }
   ],
   "source": [
    "reverse_list = my_list[-2:] #PRINTING IN REVERSE ORDER USING REVERSE FUNCTION\n",
    "#reverse_list = my_list[-2::-1]\n",
    "\n",
    "reverse_list.reverse()\n",
    "print(reverse_list)"
   ]
  },
  {
   "cell_type": "code",
   "execution_count": 9,
   "id": "fdd0d4fe",
   "metadata": {},
   "outputs": [
    {
     "name": "stdout",
     "output_type": "stream",
     "text": [
      "[1, 2, 3, 4, 5, 6, 'a', 'b']\n"
     ]
    }
   ],
   "source": [
    "# CONCATENATE / JOIN LIST\n",
    "\n",
    "list_1 = [1, 2 , 3]\n",
    "list_2 = [4, 5, 6]\n",
    "list_3 = ['a', 'b']\n",
    "\n",
    "combined_list = list_1 + list_2 + list_3\n",
    "print(combined_list)"
   ]
  },
  {
   "cell_type": "code",
   "execution_count": 10,
   "id": "1de5fe0e",
   "metadata": {},
   "outputs": [
    {
     "name": "stdout",
     "output_type": "stream",
     "text": [
      "[1, 2, 3, 1, 2, 3, 1, 2, 3]\n"
     ]
    }
   ],
   "source": [
    "# Multiplying a list by a number --> Repeats the list that many times.\n",
    "\n",
    "list_1 = [1, 2 , 3]\n",
    "\n",
    "list_rep = list_1 * 3\n",
    "print(list_rep)"
   ]
  },
  {
   "cell_type": "code",
   "execution_count": 11,
   "id": "d8c47fb1",
   "metadata": {},
   "outputs": [
    {
     "name": "stdout",
     "output_type": "stream",
     "text": [
      "False\n"
     ]
    }
   ],
   "source": [
    "# Checking whether an element is in the list\n",
    "\n",
    "my_list = ['apple', 'orange', 'banana', 'grapes', 'papaya']\n",
    "\n",
    "print('apples' in my_list)"
   ]
  },
  {
   "cell_type": "code",
   "execution_count": 13,
   "id": "b5f5ce0b",
   "metadata": {},
   "outputs": [
    {
     "name": "stdout",
     "output_type": "stream",
     "text": [
      "4\n"
     ]
    }
   ],
   "source": [
    "# ------------------ DIFFERENT LIST METHODS: ----------------------\n",
    "\n",
    "#1. \"Index\" Method:\n",
    "my_list = ['apple', 'orange', 'banana', 'grapes', 'papaya']\n",
    "\n",
    "index_apple = my_list.index('papaya')\n",
    "print(index_apple)"
   ]
  },
  {
   "cell_type": "code",
   "execution_count": 14,
   "id": "05094a66",
   "metadata": {},
   "outputs": [
    {
     "name": "stdout",
     "output_type": "stream",
     "text": [
      "['papaya', 'grapes', 'banana', 'orange', 'apple']\n"
     ]
    }
   ],
   "source": [
    "# \"Reverse\" Method:\n",
    "my_list = ['apple', 'orange', 'banana', 'grapes', 'papaya']\n",
    "\n",
    "my_list.reverse()\n",
    "print(my_list)"
   ]
  },
  {
   "cell_type": "code",
   "execution_count": 15,
   "id": "9aa80d98",
   "metadata": {},
   "outputs": [
    {
     "name": "stdout",
     "output_type": "stream",
     "text": [
      "['apple', 'orange', 'banana', 'grapes', 'papaya', 'dates']\n"
     ]
    }
   ],
   "source": [
    "# \"Append\" Method:\n",
    "my_list = ['apple', 'orange', 'banana', 'grapes', 'papaya']\n",
    "\n",
    "my_list.append(\"dates\")\n",
    "print(my_list)"
   ]
  },
  {
   "cell_type": "code",
   "execution_count": 16,
   "id": "516b6057",
   "metadata": {},
   "outputs": [
    {
     "name": "stdout",
     "output_type": "stream",
     "text": [
      "['orange', 'banana', 'grapes', 'papaya']\n"
     ]
    }
   ],
   "source": [
    "# \"Remove\" Method:\n",
    "my_list = ['apple', 'orange', 'banana', 'grapes', 'papaya']\n",
    "\n",
    "my_list.remove('apple')\n",
    "print(my_list)"
   ]
  },
  {
   "cell_type": "code",
   "execution_count": 22,
   "id": "0464d926",
   "metadata": {},
   "outputs": [
    {
     "name": "stdout",
     "output_type": "stream",
     "text": [
      "['apple', 'banana', 'grapes', 'papaya']\n"
     ]
    }
   ],
   "source": [
    "# \"Pop\" Method:\n",
    "my_list = ['apple', 'orange', 'banana', 'grapes', 'papaya']\n",
    "\n",
    "my_list.pop(1)\n",
    "print(my_list)"
   ]
  },
  {
   "cell_type": "code",
   "execution_count": 19,
   "id": "3dce4e94",
   "metadata": {},
   "outputs": [
    {
     "name": "stdout",
     "output_type": "stream",
     "text": [
      "[1, 4, 9, 16, 25, 36, 49, 64, 81, 100, 121, 144, 169, 196, 225, 256, 289, 324, 361, 400, 441, 484, 529, 576, 625, 676, 729, 784, 841, 900, 961, 1024, 1089, 1156, 1225, 1296, 1369, 1444, 1521, 1600, 1681, 1764, 1849, 1936, 2025, 2116, 2209, 2304, 2401]\n"
     ]
    },
    {
     "data": {
      "text/plain": [
       "'\\nlist = []\\nfor x in range(5):\\n    list.append(x ** 2)\\nprint(list)\\n'"
      ]
     },
     "execution_count": 19,
     "metadata": {},
     "output_type": "execute_result"
    }
   ],
   "source": [
    "# --------------- LIST COMPREHENSION Syntax: [new_item for item in list.items/iterables() if test] --------------------\n",
    "\n",
    "# RETURNING SQUARE OF NUMBERS USING LIST COMPREHENSION?\n",
    "\n",
    "square_value = [num ** 2 for num in range(1, 50)]\n",
    "print(square_value)\n",
    "\n",
    "## SAME CODE USING FOR LOOP: \n",
    "\"\"\"\n",
    "list = []\n",
    "for x in range(5):\n",
    "    list.append(x ** 2)\n",
    "print(list)\n",
    "\"\"\""
   ]
  },
  {
   "cell_type": "code",
   "execution_count": 20,
   "id": "ccb50572",
   "metadata": {},
   "outputs": [
    {
     "name": "stdout",
     "output_type": "stream",
     "text": [
      "[0, 2, 4, 6, 8, 10, 12, 14, 16, 18, 20, 22, 24, 26, 28, 30, 32, 34, 36, 38, 40, 42, 44, 46, 48, 50, 52, 54, 56, 58, 60, 62, 64, 66, 68, 70, 72, 74, 76, 78, 80, 82, 84, 86, 88, 90, 92, 94, 96, 98, 100]\n"
     ]
    }
   ],
   "source": [
    "# Create a list having Even Number USING LIST COMPREHENSION?\n",
    "\n",
    "even_num = [num for num in range(101) if num % 2 == 0]\n",
    "print(even_num)"
   ]
  },
  {
   "cell_type": "code",
   "execution_count": 21,
   "id": "4f59ea41",
   "metadata": {},
   "outputs": [
    {
     "name": "stdout",
     "output_type": "stream",
     "text": [
      "[0, 2, 4, 6, 8, 10, 12, 14, 16, 18]\n"
     ]
    }
   ],
   "source": [
    "# CREATING a list of even numbers using list comprehension with range decided by user?\n",
    "\n",
    "user_input = int(input(\"Enter Something: \"))\n",
    "\n",
    "list = [x for x in range(user_input) if x % 2 == 0]\n",
    "print(list)"
   ]
  }
 ],
 "metadata": {
  "kernelspec": {
   "display_name": "base",
   "language": "python",
   "name": "python3"
  },
  "language_info": {
   "codemirror_mode": {
    "name": "ipython",
    "version": 3
   },
   "file_extension": ".py",
   "mimetype": "text/x-python",
   "name": "python",
   "nbconvert_exporter": "python",
   "pygments_lexer": "ipython3",
   "version": "3.13.5"
  }
 },
 "nbformat": 4,
 "nbformat_minor": 5
}
