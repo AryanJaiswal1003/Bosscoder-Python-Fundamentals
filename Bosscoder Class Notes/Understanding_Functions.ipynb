{
 "cells": [
  {
   "cell_type": "code",
   "execution_count": 1,
   "id": "2858b3a1",
   "metadata": {},
   "outputs": [
    {
     "data": {
      "text/plain": [
       "'\\ndef function_name(parameters):\\n    ## ---- Optional docstring -----\\n    \\n    # code block\\n    \\n    return value (optional)\\n'"
      ]
     },
     "execution_count": 1,
     "metadata": {},
     "output_type": "execute_result"
    }
   ],
   "source": [
    "# UNDERSTANDING FUNCTIONS\n",
    "\n",
    "# What are functions?\n",
    "# Functions are blocks of code that perform a specific task. \n",
    "# They help organize code, avoid repetition, and make programs easier to read and maintain.\n",
    "\n",
    "# 1. REUSABLE: You can call a function multiple times without rewriting the code.\n",
    "# 2. MAKES THE CODE MODULAR: Functions break the program into smaller, manageable pieces (modules).\n",
    "# 3. HELPS IN EASY DEBUGGING: Errors can be isolated and fixed within a function without affecting the rest of the code.\n",
    "# 4. IMPROVES READABILITY: Functions with meaningful names make the code easier to understand.\n",
    "# 5. SUPPORTS ABSTRACTION: You can use a function without knowing its internal details.\n",
    "# 6. REDUCES CODE DUPLICATION: Common tasks can be written once as a function and reused.\n",
    "# SYNTAX OF FUNCTION IN PYTHON:\n",
    "\n",
    "\"\"\"\n",
    "def function_name(parameters):\n",
    "    ## ---- Optional docstring -----\n",
    "    \n",
    "    # code block\n",
    "    \n",
    "    return value (optional)\n",
    "\"\"\"\n",
    "\n",
    "# Return --> gives you the result so you can use it later in your code (store it in a variable, use in calculations, etc.).\n",
    "# Print --> only displays the result on the screen, but does not give you the value to use further."
   ]
  },
  {
   "cell_type": "code",
   "execution_count": 2,
   "id": "b32459e3",
   "metadata": {},
   "outputs": [
    {
     "name": "stdout",
     "output_type": "stream",
     "text": [
      "Hello!! You are in Python World!!\n"
     ]
    },
    {
     "data": {
      "text/plain": [
       "11"
      ]
     },
     "execution_count": 2,
     "metadata": {},
     "output_type": "execute_result"
    }
   ],
   "source": [
    "# Basics of Functions: -\n",
    "\n",
    "## Function to greet the user\n",
    "def greet():\n",
    "    print(\"Hello!! You are in Python World!!\")\n",
    "\n",
    "# Call the greet function\n",
    "greet()\n",
    "\n",
    "\n",
    "## Function to calculate the square of a number\n",
    "def square(num):\n",
    "    \"\"\" Returns the square of a given number.\"\"\"\n",
    "    return num * num\n",
    "\n",
    "square(10)\n",
    "\n",
    "## Function to calculate the sum of two numbers\n",
    "def sum(num1, num2):\n",
    "    \"\"\"Returns the sum of two numbers.\"\"\"\n",
    "    return num1 + num2\n",
    "\n",
    "sum(5, 6)"
   ]
  },
  {
   "cell_type": "code",
   "execution_count": 4,
   "id": "a3433cc0",
   "metadata": {},
   "outputs": [
    {
     "name": "stdout",
     "output_type": "stream",
     "text": [
      "My Name is Aryan Jaiswal, I'm 25 years old & I'm from New Delhi\n",
      "My Name is 25, I'm Aryan Jaiswal years old & I'm from New Delhi\n"
     ]
    }
   ],
   "source": [
    "# DIFFERENT TYPES OF PARAMETERS AND ARGUMENTS\n",
    "\n",
    "# 1. POSITIONAL PARAMETERS\n",
    "# Arguments are passed in the same order as the parameters are defined.\n",
    "\n",
    "def student_info(name, age, city):\n",
    "    return f\"My Name is {name}, I'm {age} years old & I'm from {city}\"\n",
    "\n",
    "# Correct order\n",
    "print(student_info(\"Aryan Jaiswal\", 25, \"New Delhi\"))\n",
    "\n",
    "# Swapped order (produces a different meaning)\n",
    "print(student_info(25, \"Aryan Jaiswal\", \"New Delhi\"))"
   ]
  },
  {
   "cell_type": "code",
   "execution_count": 5,
   "id": "faf425a8",
   "metadata": {},
   "outputs": [
    {
     "name": "stdout",
     "output_type": "stream",
     "text": [
      "My Name is Aryan Jaiswal, I'm 25 years old & I'm from New Delhi\n"
     ]
    }
   ],
   "source": [
    "# 2. KEYWORD PARAMETERS\n",
    "# Arguments are passed with the parameter names, so order does not matter.\n",
    "\n",
    "print(student_info(age=25, name=\"Aryan Jaiswal\", city=\"New Delhi\"))"
   ]
  },
  {
   "cell_type": "code",
   "execution_count": 6,
   "id": "932d54a0",
   "metadata": {},
   "outputs": [
    {
     "name": "stdout",
     "output_type": "stream",
     "text": [
      "My Name is Aryan Jaiswal, I'm 25 years old\n"
     ]
    }
   ],
   "source": [
    "# 3. DEFAULT PARAMETERS\n",
    "# Parameters can have default values, which are used if no value is provided.\n",
    "\n",
    "def student_details(name, age, city=None):\n",
    "    if city is not None:\n",
    "        return f\"My Name is {name}, I'm {age} years old & I'm from {city}\"\n",
    "    else:\n",
    "        return f\"My Name is {name}, I'm {age} years old\"\n",
    "\n",
    "# Here, 'city' is not passed, so the default None is used\n",
    "print(student_details(name=\"Aryan Jaiswal\", age=25))"
   ]
  },
  {
   "cell_type": "code",
   "execution_count": 10,
   "id": "a4e78299",
   "metadata": {},
   "outputs": [
    {
     "name": "stdout",
     "output_type": "stream",
     "text": [
      "45\n"
     ]
    }
   ],
   "source": [
    "# ------------------------------------ VARIABLE LENGTH PARAMETERS ------------------------------------\n",
    "\n",
    "# (a) *args -> arbitrary positional arguments --> Collects multiple values into a tuple\n",
    "\n",
    "def calculate_sum(*num):\n",
    "    total = 0\n",
    "    for n in num:\n",
    "        total += n\n",
    "    return total\n",
    "\n",
    "# Passing multiple values\n",
    "result = calculate_sum(5, 6, 7, 8, 9, 10)\n",
    "print(result)"
   ]
  },
  {
   "cell_type": "code",
   "execution_count": 11,
   "id": "9b958929",
   "metadata": {},
   "outputs": [
    {
     "name": "stdout",
     "output_type": "stream",
     "text": [
      "name: Aryan Jaiswal\n",
      "age: 25\n",
      "city: New Delhi\n"
     ]
    }
   ],
   "source": [
    "# (b) **kwargs -> arbitrary keyword arguments --> Collects multiple keyword arguments into a dictionary\n",
    "\n",
    "def display_info(**kwargs):\n",
    "    for key, value in kwargs.items():\n",
    "        print(f\"{key}: {value}\")\n",
    "\n",
    "# Passing multiple key-value pairs\n",
    "display_info(name=\"Aryan Jaiswal\", age=25, city=\"New Delhi\")"
   ]
  },
  {
   "cell_type": "code",
   "execution_count": 13,
   "id": "e17b3dd1",
   "metadata": {},
   "outputs": [
    {
     "name": "stdout",
     "output_type": "stream",
     "text": [
      "5\n"
     ]
    }
   ],
   "source": [
    "# LAMBDA FUNCTIONS IN PYTHON\n",
    "\n",
    "# A lambda function is an anonymous function (i.e., it has no name).\n",
    "# It is defined using the keyword 'lambda' and can have any number of arguments, \n",
    "# but only one expression.\n",
    "\n",
    "# SYNTAX --> lambda arguments: expression\n",
    "\n",
    "# Example 1: Adding two numbers\n",
    "\n",
    "output = lambda x, y: x + y\n",
    "print(output(2, 3))"
   ]
  },
  {
   "cell_type": "code",
   "execution_count": 15,
   "id": "0fe7e809",
   "metadata": {},
   "outputs": [
    {
     "name": "stdout",
     "output_type": "stream",
     "text": [
      "False\n",
      "True\n"
     ]
    }
   ],
   "source": [
    "# Example 2: Check if a number is even:\n",
    "\n",
    "is_even = lambda num: num % 2 == 0\n",
    "print(is_even(5))   # Output: False\n",
    "print(is_even(10))  # Output: True"
   ]
  },
  {
   "cell_type": "code",
   "execution_count": 18,
   "id": "abafb62b",
   "metadata": {},
   "outputs": [
    {
     "name": "stdout",
     "output_type": "stream",
     "text": [
      "36\n"
     ]
    }
   ],
   "source": [
    "# Example 3: Square of a number\n",
    "\n",
    "square = lambda n: n * n\n",
    "print(square(6))   # Output: 36"
   ]
  },
  {
   "cell_type": "code",
   "execution_count": 21,
   "id": "0cf0d5fa",
   "metadata": {},
   "outputs": [
    {
     "name": "stdout",
     "output_type": "stream",
     "text": [
      "[(3, 1), (2, 4), (1, 5)]\n"
     ]
    }
   ],
   "source": [
    "# Example 4: Using lambda with 'sorted' to sort by second element in a list of tuples\n",
    "\n",
    "pairs = [(1, 5), (3, 1), (2, 4)]\n",
    "sorted_pairs = sorted(pairs, key=lambda x: x[1])\n",
    "print(sorted_pairs)   "
   ]
  },
  {
   "cell_type": "code",
   "execution_count": 22,
   "id": "6fb98515",
   "metadata": {},
   "outputs": [
    {
     "name": "stdout",
     "output_type": "stream",
     "text": [
      "[2, 4, 6, 8, 10]\n"
     ]
    }
   ],
   "source": [
    "# Example 5: Using lambda with 'map' to double each element\n",
    "\n",
    "numbers = [1, 2, 3, 4, 5]\n",
    "doubled = list(map(lambda x: x * 2, numbers))\n",
    "print(doubled)   "
   ]
  },
  {
   "cell_type": "code",
   "execution_count": 23,
   "id": "cb57537b",
   "metadata": {},
   "outputs": [
    {
     "data": {
      "text/plain": [
       "'\\n## Key Points about Lambda Functions: -\\n\\n1. Defined using lambda instead of def.\\n2. Can take any number of arguments.\\n3. Can only have one expression (no multiple statements).\\n4. Often used with functions like map(), filter(), and sorted().\\n\\n'"
      ]
     },
     "execution_count": 23,
     "metadata": {},
     "output_type": "execute_result"
    }
   ],
   "source": [
    "\"\"\"\n",
    "## Key Points about Lambda Functions: -\n",
    "\n",
    "1. Defined using lambda instead of def.\n",
    "2. Can take any number of arguments.\n",
    "3. Can only have one expression (no multiple statements).\n",
    "4. Often used with functions like map(), filter(), and sorted().\n",
    "\n",
    "\"\"\""
   ]
  }
 ],
 "metadata": {
  "kernelspec": {
   "display_name": "base",
   "language": "python",
   "name": "python3"
  },
  "language_info": {
   "codemirror_mode": {
    "name": "ipython",
    "version": 3
   },
   "file_extension": ".py",
   "mimetype": "text/x-python",
   "name": "python",
   "nbconvert_exporter": "python",
   "pygments_lexer": "ipython3",
   "version": "3.13.5"
  }
 },
 "nbformat": 4,
 "nbformat_minor": 5
}
