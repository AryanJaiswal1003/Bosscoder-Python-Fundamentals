{
 "cells": [
  {
   "cell_type": "code",
   "execution_count": 1,
   "id": "5a34bf94",
   "metadata": {},
   "outputs": [
    {
     "data": {
      "text/plain": [
       "'\\n1. IF - ELSE\\n2. TRANSFER STATEMENTS: BREAK; CONTINUE; PASS\\n3. ITERATIVES: FOR & WHILE LOOP\\n'"
      ]
     },
     "execution_count": 1,
     "metadata": {},
     "output_type": "execute_result"
    }
   ],
   "source": [
    "# Understanding Control_Flows\n",
    "\n",
    "\"\"\"\n",
    "1. IF - ELSE\n",
    "2. TRANSFER STATEMENTS: BREAK; CONTINUE; PASS\n",
    "3. ITERATIVES: FOR & WHILE LOOP\n",
    "\"\"\""
   ]
  },
  {
   "cell_type": "code",
   "execution_count": 4,
   "id": "404025a7",
   "metadata": {},
   "outputs": [],
   "source": [
    "# Transfer Statements: Used to alter the flow of the loop\n",
    "#1. Break Statement: Terminates the loop entirely & jumps out of the loop.\n",
    "#2. "
   ]
  },
  {
   "cell_type": "code",
   "execution_count": 8,
   "id": "797993f1",
   "metadata": {},
   "outputs": [
    {
     "name": "stdout",
     "output_type": "stream",
     "text": [
      "1\n",
      "5\n",
      "8\n",
      "7\n",
      "8\n",
      "Found the number 12\n"
     ]
    }
   ],
   "source": [
    "my_list = [1, 5, 8, 7, 8, 12, 15, 18]\n",
    "\n",
    "for num in my_list:\n",
    "    if num == 12:\n",
    "        print(f\"Found the number {num}\")\n",
    "        break\n",
    "    else:\n",
    "        print(num)"
   ]
  },
  {
   "cell_type": "code",
   "execution_count": 10,
   "id": "0128f121",
   "metadata": {},
   "outputs": [
    {
     "name": "stdout",
     "output_type": "stream",
     "text": [
      "Printing Positive Numbers: 10\n",
      "Printing Positive Numbers: 15\n",
      "Printing Positive Numbers: 30\n",
      "Printing Positive Numbers: 40\n"
     ]
    }
   ],
   "source": [
    "my_list = [10, -12, 15, -5, 30, 40]\n",
    "\n",
    "for num in my_list:\n",
    "    if num < 0:\n",
    "        continue\n",
    "    else:\n",
    "        print(f\"Printing Positive Numbers: {num}\")"
   ]
  }
 ],
 "metadata": {
  "kernelspec": {
   "display_name": "base",
   "language": "python",
   "name": "python3"
  },
  "language_info": {
   "codemirror_mode": {
    "name": "ipython",
    "version": 3
   },
   "file_extension": ".py",
   "mimetype": "text/x-python",
   "name": "python",
   "nbconvert_exporter": "python",
   "pygments_lexer": "ipython3",
   "version": "3.13.5"
  }
 },
 "nbformat": 4,
 "nbformat_minor": 5
}
