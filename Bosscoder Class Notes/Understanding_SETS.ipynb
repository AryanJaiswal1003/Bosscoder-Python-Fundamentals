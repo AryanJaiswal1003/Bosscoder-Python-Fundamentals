{
 "cells": [
  {
   "cell_type": "code",
   "execution_count": 1,
   "id": "56e51c83",
   "metadata": {},
   "outputs": [],
   "source": [
    "# ------------------------------ SETS ----------------------------------\n",
    "# Sets are unordered collections of unique elements.\n",
    "# Denoted by curly braces {}.\n",
    "\n",
    "\n",
    "# ----------------------- Properties of Sets: -------------------------\n",
    "# 1. Unordered (no indexing possible).\n",
    "# 2. Mutable (can add/remove elements).\n",
    "# 3. No Duplicates.\n",
    "# 4. Heterogeneous – can store multiple data types.\n",
    "# ----------------------------------------------------------------------"
   ]
  },
  {
   "cell_type": "code",
   "execution_count": null,
   "id": "625b776d",
   "metadata": {},
   "outputs": [],
   "source": []
  }
 ],
 "metadata": {
  "kernelspec": {
   "display_name": ".conda",
   "language": "python",
   "name": "python3"
  },
  "language_info": {
   "codemirror_mode": {
    "name": "ipython",
    "version": 3
   },
   "file_extension": ".py",
   "mimetype": "text/x-python",
   "name": "python",
   "nbconvert_exporter": "python",
   "pygments_lexer": "ipython3",
   "version": "3.11.13"
  }
 },
 "nbformat": 4,
 "nbformat_minor": 5
}
