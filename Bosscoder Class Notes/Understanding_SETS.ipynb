{
 "cells": [
  {
   "cell_type": "code",
   "execution_count": 1,
   "id": "56e51c83",
   "metadata": {},
   "outputs": [],
   "source": [
    "# ------------------------------ UNDERSTANDING SETS ----------------------------------\n",
    "# Sets are unordered collections of unique elements.\n",
    "# Denoted by curly braces {}.\n",
    "\n",
    "\n",
    "# ----------------------- Properties of Sets: -------------------------\n",
    "# 1. Unordered (no indexing possible).\n",
    "# 2. Mutable (can add/remove elements).\n",
    "# 3. No Duplicates.\n",
    "# 4. Heterogeneous – can store multiple data types.\n",
    "# ----------------------------------------------------------------------"
   ]
  },
  {
   "cell_type": "code",
   "execution_count": 45,
   "id": "a8ec0a6a",
   "metadata": {},
   "outputs": [
    {
     "name": "stdout",
     "output_type": "stream",
     "text": [
      "Set created using set(): {1, 2, 3, 4, 5, 6}\n",
      "Set of Fruits: {'grapes', 'apple', 'orange', 'papaya', 'banana'}\n"
     ]
    }
   ],
   "source": [
    "# Creating a set using set()\n",
    "my_set = set([1, 2, 3, 4, 5, 6])\n",
    "\n",
    "print(\"Set created using set():\", my_set)\n",
    "\n",
    "# Creating a set using curly braces\n",
    "fruits = {\"apple\", \"orange\", \"banana\", \"grapes\", \"papaya\"}\n",
    "\n",
    "print(\"Set of Fruits:\", fruits)"
   ]
  },
  {
   "cell_type": "code",
   "execution_count": 47,
   "id": "66d4f747",
   "metadata": {},
   "outputs": [
    {
     "name": "stdout",
     "output_type": "stream",
     "text": [
      "After Adding 'dates': {'grapes', 'apple', 'orange', 'dates', 'papaya', 'banana'}\n",
      "Union (Method 1): {1, 2, 3, 4, 5, 6, 7, 8, 9, 10, 11, 12, 13, 14, 15}\n",
      "Union (Method 2): {1, 2, 3, 4, 5, 6, 7, 8, 9, 10, 11, 12, 13, 14, 15}\n"
     ]
    }
   ],
   "source": [
    "# DIFFRENT METHODS IN SETS\n",
    "\n",
    "# ADDING METHOD IN SET:-\n",
    "fruits = {'apple', 'orange', 'banana', 'grapes', 'papaya'}\n",
    "\n",
    "fruits.add(\"dates\")  # Adding a new element\n",
    "print(\"After Adding 'dates':\", fruits)\n",
    "\n",
    "# UNION METHOD IN SET: [like LCM] --> Union returns all elements, with duplicates removed\n",
    "set_1 = {1, 2, 3, 4, 5, 6}\n",
    "set_2 = {5, 6, 7, 8, 9, 10}\n",
    "set_3 = {9, 10, 11, 12, 13, 14, 15}\n",
    "\n",
    "method_1 = set_1 | set_2 | set_3   # Using | operator\n",
    "method_2 = set_1.union(set_2, set_3)  # Using union() method\n",
    "\n",
    "print(\"Union (Method 1):\", method_1)\n",
    "print(\"Union (Method 2):\", method_2)\n"
   ]
  },
  {
   "cell_type": "code",
   "execution_count": 49,
   "id": "a6eea40e",
   "metadata": {},
   "outputs": [
    {
     "name": "stdout",
     "output_type": "stream",
     "text": [
      "Intersection (Method 1): {5, 6}\n",
      "Intersection (Method 2): {5, 6}\n"
     ]
    }
   ],
   "source": [
    "# INTERSECTION METHOD IN SET: [like HCF] --> Intersection returns only common elements\n",
    "set_1 = {1, 2, 3, 4, 5, 6}\n",
    "set_2 = {5, 6, 7, 8, 9, 10}\n",
    "\n",
    "method_1 = set_1 & set_2\n",
    "method_2 = set_1.intersection(set_2)\n",
    "\n",
    "print(\"Intersection (Method 1):\", method_1)\n",
    "print(\"Intersection (Method 2):\", method_2)"
   ]
  },
  {
   "cell_type": "code",
   "execution_count": 50,
   "id": "f0eceb1d",
   "metadata": {},
   "outputs": [
    {
     "name": "stdout",
     "output_type": "stream",
     "text": [
      "Difference (Method 1): {1, 2, 3, 4}\n",
      "Difference (Method 2): {1, 2, 3, 4}\n"
     ]
    }
   ],
   "source": [
    "# DIFFERENCE METHOD IN SET --> Difference returns elements present in one set but not in the other\n",
    "set_1 = {1, 2, 3, 4, 5, 6}\n",
    "set_2 = {5, 6, 7, 8, 9, 10}\n",
    "set_3 = {9, 10, 11, 12, 13, 14, 15}\n",
    "\n",
    "method_1 = set_1 - set_2 - set_3\n",
    "method_2 = set_1.difference(set_2, set_3)\n",
    "\n",
    "print(\"Difference (Method 1):\", method_1)\n",
    "print(\"Difference (Method 2):\", method_2)"
   ]
  },
  {
   "cell_type": "code",
   "execution_count": 51,
   "id": "e3ad8f3e",
   "metadata": {},
   "outputs": [
    {
     "name": "stdout",
     "output_type": "stream",
     "text": [
      "Symmetric Difference (Method 1): {1, 2, 3, 4, 7, 8, 9, 10}\n",
      "Symmetric Difference (Method 2): {1, 2, 3, 4, 7, 8, 9, 10}\n"
     ]
    }
   ],
   "source": [
    "# Symmetric Difference (Excludes Common Elements) --> Returns elements NOT common in both sets\n",
    "set_1 = {1, 2, 3, 4, 5, 6}\n",
    "set_2 = {5, 6, 7, 8, 9, 10}\n",
    "\n",
    "method_1 = set_1 ^ set_2\n",
    "method_2 = set_1.symmetric_difference(set_2)\n",
    "\n",
    "print(\"Symmetric Difference (Method 1):\", method_1)\n",
    "print(\"Symmetric Difference (Method 2):\", method_2)"
   ]
  },
  {
   "cell_type": "code",
   "execution_count": 52,
   "id": "bcdab36e",
   "metadata": {},
   "outputs": [
    {
     "name": "stdout",
     "output_type": "stream",
     "text": [
      "After Update: {1, 2, 3, 4, 5, 6, 7, 8, 9, 10}\n"
     ]
    }
   ],
   "source": [
    "# UPDATE METHOD --> Update adds all elements from another set (like += for sets)\n",
    "set_1 = {1, 2, 3, 4, 5, 6}\n",
    "set_2 = {5, 6, 7, 8, 9, 10}\n",
    "\n",
    "set_1.update(set_2)\n",
    "print(\"After Update:\", set_1)"
   ]
  },
  {
   "cell_type": "code",
   "execution_count": null,
   "id": "6b4c6808",
   "metadata": {},
   "outputs": [
    {
     "name": "stdout",
     "output_type": "stream",
     "text": [
      "['grapes', 'apple', 'orange', 'papaya', 'banana']\n"
     ]
    }
   ],
   "source": [
    "# Converting List to Set to Remove Duplicate & back to List: -\n",
    "my_set = set(['apple', 'orange', 'banana', 'grapes', 'papaya'])\n",
    "\n",
    "my_list = list(my_set)\n",
    "print(my_list)"
   ]
  },
  {
   "cell_type": "code",
   "execution_count": 53,
   "id": "4628ef78",
   "metadata": {},
   "outputs": [
    {
     "name": "stdout",
     "output_type": "stream",
     "text": [
      "{64, 100, 4, 36, 16}\n",
      "Even/Odd Set: {'Even', 'Odd'}\n"
     ]
    }
   ],
   "source": [
    "# SET COMPREHENSION\n",
    "\n",
    "# NORMAL SYNTAX: {new_item for item in iterable if condition}\n",
    "\n",
    "# Example 1: Squares of even numbers from 1 to 10?\n",
    "squares = {x ** 2 for x in range(1, 11) if x % 2 == 0}\n",
    "print(squares)\n",
    "\n",
    "# IF-ELSE Syntax: {expression_if_true if condition else expression_if_false for item in iterable}\n",
    "\n",
    "# Example: Store \"Even\" for even numbers and \"Odd\" for odd numbers from 1 to 10?\n",
    "result = {\"Even\" if x % 2 == 0 else \"Odd\" for x in range(1, 11)}\n",
    "print(\"Even/Odd Set:\", result)"
   ]
  }
 ],
 "metadata": {
  "kernelspec": {
   "display_name": "base",
   "language": "python",
   "name": "python3"
  },
  "language_info": {
   "codemirror_mode": {
    "name": "ipython",
    "version": 3
   },
   "file_extension": ".py",
   "mimetype": "text/x-python",
   "name": "python",
   "nbconvert_exporter": "python",
   "pygments_lexer": "ipython3",
   "version": "3.13.5"
  }
 },
 "nbformat": 4,
 "nbformat_minor": 5
}
