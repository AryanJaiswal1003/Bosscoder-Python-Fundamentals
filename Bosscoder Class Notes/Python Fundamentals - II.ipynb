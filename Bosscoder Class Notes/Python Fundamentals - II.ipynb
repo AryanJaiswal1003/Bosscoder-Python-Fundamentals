{
 "cells": [
  {
   "cell_type": "code",
   "execution_count": 1,
   "id": "3fde736d-2576-4537-9484-cb66b9e00bb7",
   "metadata": {},
   "outputs": [],
   "source": [
    "# PYTHON FUNDAMENTALS II"
   ]
  },
  {
   "cell_type": "code",
   "execution_count": 3,
   "id": "26467561-7ca1-49d3-b258-623b9832a2be",
   "metadata": {},
   "outputs": [
    {
     "name": "stdout",
     "output_type": "stream",
     "text": [
      "My Name is Aryan Jaiswal & my Age is 25\n"
     ]
    }
   ],
   "source": [
    "# PRINTING MULTIPLE ITEMS: Can be done using f-string, separating diff variable via 'comma[,]' inside Print statement.\n",
    "\n",
    "name = 'Aryan Jaiswal'\n",
    "age = 25\n",
    "\n",
    "print(f\"My Name is {name} & my Age is {age}\")"
   ]
  },
  {
   "cell_type": "code",
   "execution_count": 12,
   "id": "5f03b689-52a9-4549-9ced-36dd258ea8fb",
   "metadata": {},
   "outputs": [
    {
     "name": "stdout",
     "output_type": "stream",
     "text": [
      "Aryan Jaiswal#@*/-25\n"
     ]
    }
   ],
   "source": [
    "# SPACING USING CUSTOM SEPARATOR: 'sep'\n",
    "\n",
    "print(name, age, sep = \"#@*/-\")"
   ]
  },
  {
   "cell_type": "code",
   "execution_count": 13,
   "id": "fd2621e8-cd67-4519-bb6c-0c567ab949c5",
   "metadata": {},
   "outputs": [
    {
     "name": "stdout",
     "output_type": "stream",
     "text": [
      "My Name is Aryan Jaiswal\n",
      "My Age is 25\n"
     ]
    }
   ],
   "source": [
    "# 'END' Operator: The End Parameter in print() function controls what gets printed at the end of the Output, instead of the DEFAULT Newline(\\n)\n",
    "\n",
    "# DEFAULT BEHAVIOR:\n",
    "print(\"My Name is\", name)\n",
    "print(\"My Age is\", age)"
   ]
  },
  {
   "cell_type": "code",
   "execution_count": 20,
   "id": "22be037f-f9ad-4239-9c85-5f7e3d5144d3",
   "metadata": {},
   "outputs": [
    {
     "name": "stdout",
     "output_type": "stream",
     "text": [
      "My Name is Aryan Jaiswal**My Age is 25\n"
     ]
    }
   ],
   "source": [
    "# USING END PARAMETER:\n",
    "\n",
    "print(\"My Name is\", name, end = '**')\n",
    "print(\"My Age is\", age)"
   ]
  },
  {
   "cell_type": "code",
   "execution_count": 15,
   "id": "8907c70c-baab-4ae5-8b9b-2390524d8dd8",
   "metadata": {},
   "outputs": [
    {
     "name": "stdout",
     "output_type": "stream",
     "text": [
      "My Name is Aryan Jaiswal, I'm 25 years old. I'm currently Residing in New Delhi\n"
     ]
    }
   ],
   "source": [
    "# f - Strings: Formatted Strings\n",
    "\n",
    "city = \"New Delhi\"\n",
    "print(f\"My Name is {name}, I'm {age} years old. I'm currently Residing in {city}\")"
   ]
  },
  {
   "cell_type": "code",
   "execution_count": 21,
   "id": "676703ad-e399-4242-a809-093ff62ea6af",
   "metadata": {},
   "outputs": [
    {
     "name": "stdout",
     "output_type": "stream",
     "text": [
      "My name is Aryan Jaiswal, I'm 25 years old & I'm currently Residing in New Delhi\n"
     ]
    }
   ],
   "source": [
    "# FORMAT() METHOD [Alternative of f-string]\n",
    "\n",
    "print(\"My name is {}, I'm {} years old & I'm currently Residing in {}\".format(name, age, city))"
   ]
  },
  {
   "cell_type": "code",
   "execution_count": 26,
   "id": "21194b1b-8174-4c36-a0ba-ca73725e1ef5",
   "metadata": {},
   "outputs": [],
   "source": [
    "# PYTHON OPERATORS: -\n",
    "\n",
    "# [I]: ARITHMETIC OPERATORS: \n",
    "        # +: Addition, \n",
    "        # -: Substraction, \n",
    "        # /: Division [Note: It returns values always in float], \n",
    "        # *: Multiply, \n",
    "        # %: Modulus [Returns the Remainder of a division],\n",
    "        # **: Exponent\n",
    "        # //: Floor Division [Gives the Rounded (Whole) figure after division]\n",
    "\n",
    "# [II]: COMPARISION OPERATORS: True or False\n",
    "        # ==: Equal to,\n",
    "        # != Not Equal to,\n",
    "        # >: Greater than,\n",
    "        # <: Less than,\n",
    "        # >=: Greater than or equal to,\n",
    "        # <=: Less than or equal to\n",
    "\n",
    "# [III]: LOGICAL OPERATORS: \n",
    "        # AND: True if BOTH conditions are true [Note: AND operator in Python is evaluated before OR operator],\n",
    "        # OR: True if atleast ONE condition is true, \n",
    "        # NOT: Reverses the results [True --> False, False --> True]\n",
    "\n",
    "    # E.g., \n",
    "        # (5 > 6) and (9 > 4) and (8 <= 10) --> False\n",
    "        # (5 > 6) or (9 > 4) or (8 <= 10) --> True\n",
    "        # (5 > 6) or (9 > 4) and (8 <= 10) --> True\n",
    "        # not(5 > 3) --> False\n",
    "\n",
    "# [IV]: SHORTHAND OPERATORS: Shortcut for updating values of a variable w/o writting the variable name twice.\n",
    "        # =: Assigns Value,\n",
    "        # +=: Add & assign,\n",
    "        # -=: Substract & assign,\n",
    "        # *=: Multiply & assign,\n",
    "        # /=: Divide & assign (Float division),\n",
    "        # //=: Floor division & assign,\n",
    "        # %=: Modulus & assign,\n",
    "        # **=: Exponent & assign\n",
    "\n",
    "# [V]: BINARY OPERATORS [Bitwise]: These operators work bit by bit (0s and 1s) on integers.\n",
    "        # &: And --> If both bits are 1 \n",
    "    \n",
    "    # E.g.,\n",
    "        # a = 6, b = 3 --> a & b: 2"
   ]
  },
  {
   "cell_type": "code",
   "execution_count": 1,
   "id": "531a97f4-d564-419f-b974-e6d11e42ce29",
   "metadata": {},
   "outputs": [
    {
     "name": "stdout",
     "output_type": "stream",
     "text": [
      "Fruit: Mango | Quantity: 12 | Price per kg: 45.5\n"
     ]
    }
   ],
   "source": [
    "# Q1: Create a variable fruit to store 'Mango', a variable quantity to store & print them in following format:\n",
    "        # Fruit: Mango | Quantity: 12 | Price per kg: 45.50\n",
    "\n",
    "fruit = \"Mango\"\n",
    "quantity = 12\n",
    "price = 45.50\n",
    "\n",
    "print(f\"Fruit: {fruit} | Quantity: {quantity} | Price per kg: {price}\")"
   ]
  },
  {
   "cell_type": "code",
   "execution_count": 3,
   "id": "ef7c3559-ee80-475a-91e1-2b888e19bfc3",
   "metadata": {},
   "outputs": [
    {
     "name": "stdout",
     "output_type": "stream",
     "text": [
      "The Final Answer is 125\n"
     ]
    }
   ],
   "source": [
    "# Q2: You have two variables: x = \"100\", y = 25. Convert x to integer, add it to y, store the result & print it?\n",
    "\n",
    "x = \"100\"\n",
    "y = 25\n",
    "\n",
    "answer = int(x) + y\n",
    "print(f\"The Final Answer is {answer}\")"
   ]
  },
  {
   "cell_type": "code",
   "execution_count": 8,
   "id": "b49fa80d-f74c-421f-8276-68faffc3927f",
   "metadata": {},
   "outputs": [
    {
     "name": "stdout",
     "output_type": "stream",
     "text": [
      "Answer via First way: 0.86\n",
      "Answer via Second way: 0.86\n"
     ]
    }
   ],
   "source": [
    "# Q3: Given num = 17.856. Extract only the Decimal Part & print it?\n",
    "\n",
    "num = 17.856\n",
    "answer1 = round(num % 1, 2)\n",
    "answer2 = round(num - int(num), 2)\n",
    "\n",
    "print(f\"Answer via First way: {answer1}\\nAnswer via Second way: {answer2}\")"
   ]
  }
 ],
 "metadata": {
  "kernelspec": {
   "display_name": "Python [conda env:base] *",
   "language": "python",
   "name": "conda-base-py"
  },
  "language_info": {
   "codemirror_mode": {
    "name": "ipython",
    "version": 3
   },
   "file_extension": ".py",
   "mimetype": "text/x-python",
   "name": "python",
   "nbconvert_exporter": "python",
   "pygments_lexer": "ipython3",
   "version": "3.13.5"
  }
 },
 "nbformat": 4,
 "nbformat_minor": 5
}
