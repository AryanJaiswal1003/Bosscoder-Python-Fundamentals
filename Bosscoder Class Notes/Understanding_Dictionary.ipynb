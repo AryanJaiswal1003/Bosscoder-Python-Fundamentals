{
 "cells": [
  {
   "cell_type": "code",
   "execution_count": null,
   "id": "e883a0b5",
   "metadata": {},
   "outputs": [],
   "source": [
    "# UNDERSTANDING PYTHON DICTIONARIES\n",
    "\n",
    "# --------------------------------- PROPERTIES OF DICTIONARY ---------------------------------\n",
    "# 1. Unordered collection of Key & Value pairs.\n",
    "# 2. Each Key is Unique.\n",
    "# 3. Keys must be Immutable (string, int, tuple, etc.).\n",
    "# 4. Mutability: We can add, modify, or remove key-value pairs.\n",
    "# 5. Supports heterogeneous data types.\n",
    "\n",
    "# Syntax For Dictionary Comprehension: {new_key: new_value for (key, value) in list}"
   ]
  },
  {
   "cell_type": "code",
   "execution_count": 41,
   "id": "8cb73478",
   "metadata": {},
   "outputs": [
    {
     "name": "stdout",
     "output_type": "stream",
     "text": [
      "Method_1: {'name': 'Aryan Jaiswal', 'age': 25, 'company': 'PayPal'}\n",
      "Method_2: {'name': 'Aryan Jaiswal', 'age': 25, 'company': 'PayPal'}\n"
     ]
    }
   ],
   "source": [
    "# METHOD 1: Using Curly Braces { }\n",
    "method_1 = {\n",
    "    \"name\": \"Aryan Jaiswal\",\n",
    "    \"age\": 25,\n",
    "    \"company\": \"PayPal\"\n",
    "}\n",
    "\n",
    "# METHOD 2: Using dict() constructor\n",
    "method_2 = dict(name=\"Aryan Jaiswal\", age=25, company=\"PayPal\")\n",
    "\n",
    "print(\"Method_1:\", method_1)\n",
    "print(\"Method_2:\", method_2)"
   ]
  },
  {
   "cell_type": "code",
   "execution_count": 42,
   "id": "4cf7fb8a",
   "metadata": {},
   "outputs": [
    {
     "name": "stdout",
     "output_type": "stream",
     "text": [
      "Dictionary of Squares: {1: 1, 2: 4, 3: 9, 4: 16, 5: 25, 6: 36, 7: 49, 8: 64, 9: 81, 10: 100}\n"
     ]
    }
   ],
   "source": [
    "# Creating a dictionary of squares using dictionary comprehension\n",
    "my_square_dict = {x: x ** 2 for x in range(1, 11)}\n",
    "\n",
    "print(\"Dictionary of Squares:\", my_square_dict)"
   ]
  },
  {
   "cell_type": "code",
   "execution_count": 43,
   "id": "b5429be9",
   "metadata": {},
   "outputs": [
    {
     "name": "stdout",
     "output_type": "stream",
     "text": [
      "Name: Aryan Jaiswal\n",
      "Maths: 75\n",
      "Primary Activity: Cycling\n",
      "Other Activities: ['Basketball', 'Cricket', 'Comedy']\n"
     ]
    }
   ],
   "source": [
    "# Nested Dictionaries and Accessing Elements\n",
    "\n",
    "# Defining a nested dictionary\n",
    "student_dict = {\n",
    "    \"name\": \"Aryan Jaiswal\",\n",
    "    \"grades\": {\n",
    "        \"maths\": 75,\n",
    "        \"english\": 70,\n",
    "        \"science\": 85,\n",
    "    },\n",
    "    \"hobbies\": [\"Cycling\", \"Basketball\", \"Cricket\", \"Comedy\"],\n",
    "    \"age\": 25,\n",
    "}\n",
    "\n",
    "# Accessing values inside dictionary\n",
    "print(\"Name:\", student_dict[\"name\"])\n",
    "print(\"Maths:\", student_dict[\"grades\"][\"maths\"])\n",
    "print(\"Primary Activity:\", student_dict[\"hobbies\"][0])\n",
    "print(\"Other Activities:\", student_dict[\"hobbies\"][1:])"
   ]
  },
  {
   "cell_type": "code",
   "execution_count": 45,
   "id": "51555d9b",
   "metadata": {},
   "outputs": [
    {
     "name": "stdout",
     "output_type": "stream",
     "text": [
      "All Values: dict_values(['Aryan Jaiswal', {'maths': 75, 'english': 70, 'science': 85}, ['Cycling', 'Basketball', 'Cricket', 'Comedy'], 25])\n",
      "Maths using .get(): 75\n",
      "Dictionary Items: dict_items([('name', 'Aryan Jaiswal'), ('grades', {'maths': 75, 'english': 70, 'science': 85}), ('hobbies', ['Cycling', 'Basketball', 'Cricket', 'Comedy']), ('age', 25)])\n"
     ]
    }
   ],
   "source": [
    "# ------------------- Dictionary Methods -------------------\n",
    "\n",
    "# .values() - Returns all values\n",
    "print(\"All Values:\", student_dict.values())\n",
    "\n",
    "# .get() - Safer way to access values (avoids KeyError)\n",
    "print(\"Maths using .get():\", student_dict.get(\"grades\").get(\"maths\"))\n",
    "\n",
    "# .items() - Returns (key, value) pairs used during iterrating items during For Loop\n",
    "print(\"Dictionary Items:\", student_dict.items())"
   ]
  }
 ],
 "metadata": {
  "kernelspec": {
   "display_name": "base",
   "language": "python",
   "name": "python3"
  },
  "language_info": {
   "codemirror_mode": {
    "name": "ipython",
    "version": 3
   },
   "file_extension": ".py",
   "mimetype": "text/x-python",
   "name": "python",
   "nbconvert_exporter": "python",
   "pygments_lexer": "ipython3",
   "version": "3.13.5"
  }
 },
 "nbformat": 4,
 "nbformat_minor": 5
}
