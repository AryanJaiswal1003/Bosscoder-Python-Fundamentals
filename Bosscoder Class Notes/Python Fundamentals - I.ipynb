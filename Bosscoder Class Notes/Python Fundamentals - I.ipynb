{
 "cells": [
  {
   "cell_type": "code",
   "execution_count": 22,
   "id": "8e5973ff-5ce0-4129-a0a5-588af0e000cb",
   "metadata": {},
   "outputs": [],
   "source": [
    "# PYTHON FUNDAMENTALS - I"
   ]
  },
  {
   "cell_type": "code",
   "execution_count": 2,
   "id": "0ac668c5",
   "metadata": {},
   "outputs": [],
   "source": [
    "# VARIABLES --> Container which can store different DATA TYPES."
   ]
  },
  {
   "cell_type": "code",
   "execution_count": 15,
   "id": "14f39dfd",
   "metadata": {},
   "outputs": [],
   "source": [
    "# RULES FOR NAMING A VARIABLE: -\n",
    "\n",
    "# [1] MUST START WITH A LETTER OR UNDERSCORE.\n",
    "\n",
    "# [2] CAN CONTAIN LETTERS, NUMBERS & UNDERSCORES.\n",
    "    # E.g.,: \n",
    "        # a1 = 4 # Valid Variable Naming Convention.\n",
    "        # a_1 = 4 # Valid Variable Naming Convention.\n",
    "        # BUT\n",
    "        # a@1 = 0 # Not a Valid Variable Naming Convention [Throws an Error]\n",
    "\n",
    "# [3] CASE - SENSITIVES.\n",
    "\n",
    "# [4] NO SPACES ALLOWED BETWEEN VARIABLES --> Should be either Pascal Case or Snake_Case.\n",
    "\n",
    "# [5] CANNOT USE PYTHON KEYWORDS AS NAMES.\n",
    "    # E.g.,: False, None, True, and, as, assert, break, class, continue, def, del, elif, else, except, finally, for, from, global, \n",
    "                # if, import, in, is, lambda, nonlocal, not, or, pass, raise, return, try, while, with, yield."
   ]
  },
  {
   "cell_type": "code",
   "execution_count": null,
   "id": "7f53c9db-25f7-4225-898c-466e4b7a64f9",
   "metadata": {},
   "outputs": [],
   "source": []
  },
  {
   "cell_type": "code",
   "execution_count": 17,
   "id": "f2d3808b",
   "metadata": {},
   "outputs": [],
   "source": [
    "# DATA TYPES:-\n",
    "\n",
    "# [1]: NUMERIC: INT; FLOAT; COMPLEX\n",
    "    # E.g.,: \n",
    "        # a = 8 --> type(a): int\n",
    "        # b = 9.00000876 --> type(b): float\n",
    "        # c = 7+9j --> type(c): complex\n",
    "        \n",
    "# [2]: STRING: Anything encapsulated within single or double quotes.\n",
    "\n",
    "# [3]: BOOLEAN: True/False values.\n",
    "\n",
    "# [4]: COLLECTION DATA TYPES: List; Tuples, Set, Dict"
   ]
  },
  {
   "cell_type": "code",
   "execution_count": null,
   "id": "b08251d1-4b52-4167-a1a0-1f81d7e32a27",
   "metadata": {},
   "outputs": [],
   "source": []
  },
  {
   "cell_type": "code",
   "execution_count": 19,
   "id": "67f3b30c",
   "metadata": {},
   "outputs": [],
   "source": [
    "# EXPLICIT TYPE CASTING: Manually Converting the Data types. \n",
    "\n",
    "# E.g.,:\n",
    "    # a = '25' --> type(a): str --> type(int(a)): int or type(float(a)): float\n",
    "    # b = 9.8765 --> type(b): float --> type(str(9.8765)): str"
   ]
  },
  {
   "cell_type": "code",
   "execution_count": null,
   "id": "dade39e4-3131-4838-a085-9567ae8b8e94",
   "metadata": {},
   "outputs": [],
   "source": []
  },
  {
   "cell_type": "code",
   "execution_count": 23,
   "id": "8e79581e",
   "metadata": {},
   "outputs": [
    {
     "data": {
      "text/plain": [
       "int"
      ]
     },
     "execution_count": 23,
     "metadata": {},
     "output_type": "execute_result"
    }
   ],
   "source": [
    "# IMPLICIT TYPE CASTING: Python automatically identifies & converts the Data types.\n",
    "\n",
    "# E.g., a = 5 & b = 9.87 --> type(a+b): float\n",
    "\n",
    "# E.g.: Given a User's age in string, convert it to an integer and store it in age_num?\n",
    "user_age = \"30\"\n",
    "age_num = int(user_age)\n",
    "type(age_num)"
   ]
  }
 ],
 "metadata": {
  "kernelspec": {
   "display_name": "Python [conda env:base] *",
   "language": "python",
   "name": "conda-base-py"
  },
  "language_info": {
   "codemirror_mode": {
    "name": "ipython",
    "version": 3
   },
   "file_extension": ".py",
   "mimetype": "text/x-python",
   "name": "python",
   "nbconvert_exporter": "python",
   "pygments_lexer": "ipython3",
   "version": "3.13.5"
  }
 },
 "nbformat": 4,
 "nbformat_minor": 5
}
