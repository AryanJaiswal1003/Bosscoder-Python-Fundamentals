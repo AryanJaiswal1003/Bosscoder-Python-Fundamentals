{
 "cells": [
  {
   "cell_type": "code",
   "execution_count": 1,
   "id": "34b6c72a",
   "metadata": {},
   "outputs": [],
   "source": [
    "# --------------------- UNDERSTANDING STRINGS ---------------------\n",
    "# Anything which is enclosed under single (''), double (\"\") or triple (''' / \"\"\") quotes.\n",
    "\n",
    "# Properties of Strings:\n",
    "# 1. Immutable - Once created, they cannot be changed.\n",
    "# 2. Ordered - Characters have a fixed index.\n",
    "# 3. Iterable - We can loop through strings."
   ]
  },
  {
   "cell_type": "code",
   "execution_count": 2,
   "id": "371ea2c5",
   "metadata": {},
   "outputs": [
    {
     "name": "stdout",
     "output_type": "stream",
     "text": [
      "Hello Everyone, it's Aryan Jaiswal.\n",
      "I am currently living in New Delhi for the past 5 years.\n"
     ]
    }
   ],
   "source": [
    "# --------------------- STRING DECLARATION ---------------------\n",
    "\n",
    "# Single quotes\n",
    "a = 'Python'\n",
    "\n",
    "# Double quotes\n",
    "b = \"Hello World\"\n",
    "\n",
    "# Triple quotes (used for multi-line strings or docstrings)\n",
    "c = \"\"\"Hello Everyone, it's Aryan Jaiswal.\n",
    "I am currently living in New Delhi for the past 5 years.\"\"\"\n",
    "\n",
    "print(c)"
   ]
  },
  {
   "cell_type": "code",
   "execution_count": 3,
   "id": "6f697f8a",
   "metadata": {},
   "outputs": [
    {
     "name": "stdout",
     "output_type": "stream",
     "text": [
      "o\n",
      "l\n",
      "Hlo\n"
     ]
    }
   ],
   "source": [
    "# --------------------- STRING SLICING ---------------------\n",
    "b = \"Hello World\"\n",
    "\n",
    "print(b[4])         # 'o' (character at index 4)\n",
    "print(b[-2])        # 'l' (2nd last character)\n",
    "print(b[0:5:2])     # 'Hlo' (start=0, end=5, step=2)"
   ]
  },
  {
   "cell_type": "code",
   "execution_count": 4,
   "id": "33c9c27f",
   "metadata": {},
   "outputs": [
    {
     "name": "stdout",
     "output_type": "stream",
     "text": [
      "Aryan Jaiswal\n"
     ]
    }
   ],
   "source": [
    "# --------------------- CONCATENATING STRINGS ---------------------\n",
    "first_name = \"Aryan\"\n",
    "last_name = \"Jaiswal\"\n",
    "\n",
    "full_name = first_name + \" \" + last_name\n",
    "print(full_name)    "
   ]
  },
  {
   "cell_type": "code",
   "execution_count": 5,
   "id": "779ef9e7",
   "metadata": {},
   "outputs": [
    {
     "name": "stdout",
     "output_type": "stream",
     "text": [
      "Aryan Jaiswal\n",
      "Aryan Jaiswal        \n",
      "        Aryan Jaiswal\n"
     ]
    }
   ],
   "source": [
    "# --------------------- STRIP FUNCTIONS ---------------------\n",
    "str1 = \"        Aryan Jaiswal        \"\n",
    "\n",
    "print(str1.strip())   # Removes spaces from both sides\n",
    "print(str1.lstrip())  # Removes spaces from left\n",
    "print(str1.rstrip())  # Removes spaces from right"
   ]
  },
  {
   "cell_type": "code",
   "execution_count": 6,
   "id": "4738f671",
   "metadata": {},
   "outputs": [
    {
     "name": "stdout",
     "output_type": "stream",
     "text": [
      "8\n"
     ]
    }
   ],
   "source": [
    "# --------------------- FIND FUNCTION ---------------------\n",
    "str2 = \"Hi, How are You?\"\n",
    "\n",
    "print(str2.find(\"are\"))   # Returns index of first occurrence"
   ]
  },
  {
   "cell_type": "code",
   "execution_count": 7,
   "id": "8b2edc42",
   "metadata": {},
   "outputs": [
    {
     "name": "stdout",
     "output_type": "stream",
     "text": [
      "['This', 'is', 'a', 'Python', 'Program', 'Language']\n",
      "This is a Python Program Language\n"
     ]
    }
   ],
   "source": [
    "# --------------------- SPLIT & JOIN ---------------------\n",
    "sent = \"This is a Python Program Language\"\n",
    "\n",
    "words = sent.split()       # Splits into list of words\n",
    "print(words)\n",
    "\n",
    "join_sen = \" \".join(words) # Joins list back into string\n",
    "print(join_sen)"
   ]
  },
  {
   "cell_type": "code",
   "execution_count": 8,
   "id": "56981e38",
   "metadata": {},
   "outputs": [
    {
     "name": "stdout",
     "output_type": "stream",
     "text": [
      "Lower Function: this is a python program language\n",
      "Upper Function: THIS IS A PYTHON PROGRAM LANGUAGE\n",
      "Title Function: This Is A Python Program Language\n",
      "Capitalize Function: This is a python program language\n"
     ]
    }
   ],
   "source": [
    "# --------------------- STRING CASE FUNCTIONS ---------------------\n",
    "print(f\"Lower Function: {join_sen.lower()}\")         # all lowercase\n",
    "print(f\"Upper Function: {join_sen.upper()}\")         # all uppercase\n",
    "print(f\"Title Function: {join_sen.title()}\")         # Each Word Capitalized\n",
    "print(f\"Capitalize Function: {join_sen.capitalize()}\") # First word only capitalized"
   ]
  },
  {
   "cell_type": "code",
   "execution_count": 9,
   "id": "f364bc92",
   "metadata": {},
   "outputs": [
    {
     "name": "stdout",
     "output_type": "stream",
     "text": [
      "Method_1 [f-string]: My Name is Aryan Jaiswal & I'm Currently 25 years old!!\n",
      "Method_2 [format-method]: My Name is Aryan Jaiswal & I'm Currently 25 years old!!\n"
     ]
    }
   ],
   "source": [
    "# --------------------- STRING FORMATTING ---------------------\n",
    "name = \"Aryan Jaiswal\"\n",
    "age = 25\n",
    "\n",
    "formatted_str_1 = f\"My Name is {name} & I'm Currently {age} years old!!\" # f-string\n",
    "formatted_str_2 = \"My Name is {} & I'm Currently {} years old!!\".format(name, age) # format method\n",
    "\n",
    "print(f\"Method_1 [f-string]: {formatted_str_1}\")\n",
    "print(f\"Method_2 [format-method]: {formatted_str_2}\")"
   ]
  },
  {
   "cell_type": "code",
   "execution_count": 10,
   "id": "c749c998",
   "metadata": {},
   "outputs": [
    {
     "name": "stdout",
     "output_type": "stream",
     "text": [
      "Hey Everyone!!\n",
      "My Name is Aryan Jaiswal\n",
      "Currently I am learning Data Science @Bosscoder.\n",
      "Hello\tWorld\tHello\tFriends\n",
      "It's Python Programming Language..\n"
     ]
    }
   ],
   "source": [
    "# --------------------- ESCAPE SEQUENCES ---------------------\n",
    "text = \"Hey Everyone!!\\nMy Name is Aryan Jaiswal\\nCurrently I am learning Data Science @Bosscoder.\"\n",
    "print(text)    # \\n for new line\n",
    "\n",
    "# TAB FUNCTION\n",
    "text = \"Hello\\tWorld\\tHello\\tFriends\"\n",
    "print(text)    # \\t for tab space\n",
    "\n",
    "# SLASHING METHOD\n",
    "text = 'It\\'s Python Programming Language..'\n",
    "print(text)\n"
   ]
  },
  {
   "cell_type": "code",
   "execution_count": 11,
   "id": "e2567f99",
   "metadata": {},
   "outputs": [
    {
     "name": "stdout",
     "output_type": "stream",
     "text": [
      "True\n"
     ]
    }
   ],
   "source": [
    "# --------------------- STRING COMPARISON ---------------------\n",
    "word1 = \"hello\"\n",
    "word2 = \"Hello\"\n",
    "\n",
    "print(word1.lower() == word2.lower())   # True (ignores case)"
   ]
  },
  {
   "cell_type": "code",
   "execution_count": 12,
   "id": "995c3e00",
   "metadata": {},
   "outputs": [
    {
     "name": "stdout",
     "output_type": "stream",
     "text": [
      "False\n",
      "True\n"
     ]
    }
   ],
   "source": [
    "# --------------------- STRING CHECK METHODS ---------------------\n",
    "str3 = \"abc25464\"\n",
    "\n",
    "print(str3.isalpha())   # False (contains digits)\n",
    "print(str3.isalnum())   # True (letters+numbers, no special characters)"
   ]
  },
  {
   "cell_type": "code",
   "execution_count": 13,
   "id": "f3e6928e",
   "metadata": {},
   "outputs": [
    {
     "name": "stdout",
     "output_type": "stream",
     "text": [
      "True\n",
      "True\n",
      "3\n",
      "Hello Java Programming!\n",
      "25\n"
     ]
    }
   ],
   "source": [
    "# --------------------- EXTRA USEFUL STRING METHODS ---------------------\n",
    "sample = \"Hello Python Programming!\"\n",
    "\n",
    "print(sample.startswith(\"Hello\"))    # True\n",
    "print(sample.endswith(\"!\"))          # True\n",
    "print(sample.count(\"o\"))             # 3 (counts occurrences)\n",
    "print(sample.replace(\"Python\", \"Java\"))  # Replace word\n",
    "print(len(sample))                   # Length of string"
   ]
  },
  {
   "cell_type": "code",
   "execution_count": null,
   "id": "f2417ab3",
   "metadata": {},
   "outputs": [
    {
     "name": "stdout",
     "output_type": "stream",
     "text": [
      "It's Python Programming Language..\n"
     ]
    }
   ],
   "source": [
    "# --------------------- FINDING MISSING VALUES ---------------------\n",
    "# Example: Find missing numbers without using a loop\n",
    "input_list = [3, 0, 1, 4, 2, 5, 2, 4]\n",
    "n = len(input_list)\n",
    "\n",
    "expected_set = set(range(n))\n",
    "missing_values = expected_set - set(input_list)\n",
    "\n",
    "print(\"Missing values:\", missing_values)"
   ]
  },
  {
   "cell_type": "code",
   "execution_count": 14,
   "id": "5fd3f987",
   "metadata": {},
   "outputs": [
    {
     "name": "stdout",
     "output_type": "stream",
     "text": [
      "ss\n",
      "pYtHoN\n"
     ]
    }
   ],
   "source": [
    "# ----- Extra case transforms -----\n",
    "print(\"ß\".casefold())                 # 'ss' (more aggressive than lower)\n",
    "print(\"PyThOn\".swapcase())            # 'pYtHoN'"
   ]
  },
  {
   "cell_type": "code",
   "execution_count": 15,
   "id": "af976b16",
   "metadata": {},
   "outputs": [
    {
     "name": "stdout",
     "output_type": "stream",
     "text": [
      "True\n",
      "True\n",
      "True\n",
      "True\n",
      "True True True\n",
      "False True True\n",
      "False False True\n",
      "True False\n"
     ]
    }
   ],
   "source": [
    "# ----- Extra boolean checks -----\n",
    "print(\"abc\".islower())                # True\n",
    "print(\"ABC\".isupper())                # True\n",
    "print(\"Hello World\".istitle())        # True\n",
    "\n",
    "print(\"   \\t\".isspace())              # True\n",
    "print(\"2\".isdecimal(), \"2\".isdigit(), \"2\".isnumeric())   # True True True\n",
    "print(\"²\".isdecimal(), \"²\".isdigit(), \"²\".isnumeric())   # False True True\n",
    "print(\"½\".isdecimal(), \"½\".isdigit(), \"½\".isnumeric())   # False False True\n",
    "print(\"hello\".isascii(), \"π\".isascii())                  # True False"
   ]
  },
  {
   "cell_type": "code",
   "execution_count": 16,
   "id": "8f41235e",
   "metadata": {},
   "outputs": [
    {
     "name": "stdout",
     "output_type": "stream",
     "text": [
      "1\n",
      "8\n",
      "('user', ':', '123:notes')\n",
      "('user:123', ':', 'notes')\n"
     ]
    }
   ],
   "source": [
    "# ----- Searching & partitioning -----\n",
    "t = \"abracadabra\"\n",
    "print(t.index(\"bra\"))                 # 1 (like find but raises if not found)\n",
    "print(t.rfind(\"bra\"))                 # 8 (search from right; -1 if not found)\n",
    "# print(t.rindex(\"xyz\"))              # ValueError if uncommented (not found)\n",
    "print(\"user:123:notes\".partition(\":\"))   # ('user', ':', '123:notes')\n",
    "print(\"user:123:notes\".rpartition(\":\"))  # ('user:123', ':', 'notes')"
   ]
  },
  {
   "cell_type": "code",
   "execution_count": 17,
   "id": "bf8bee72",
   "metadata": {},
   "outputs": [
    {
     "name": "stdout",
     "output_type": "stream",
     "text": [
      "['a,b', 'c']\n",
      "['a', 'b', 'c']\n",
      "--cat--\n",
      "cat..\n",
      "..cat\n",
      "00042\n"
     ]
    }
   ],
   "source": [
    "# ----- Splitting variants -----\n",
    "print(\"a,b,c\".rsplit(\",\", 1))         # ['a,b', 'c']\n",
    "print(\"a\\nb\\r\\nc\".splitlines())       # ['a', 'b', 'c']\n",
    "\n",
    "# ----- Padding / alignment -----\n",
    "print(\"cat\".center(7, \"-\"))           # --cat--\n",
    "print(\"cat\".ljust(5, \".\"))            # cat..\n",
    "print(\"cat\".rjust(5, \".\"))            # ..cat\n",
    "print(\"42\".zfill(5))                  # 00042"
   ]
  },
  {
   "cell_type": "code",
   "execution_count": 18,
   "id": "4edb65be",
   "metadata": {},
   "outputs": [
    {
     "name": "stdout",
     "output_type": "stream",
     "text": [
      "a   b   c\n",
      "happy\n",
      "file\n"
     ]
    }
   ],
   "source": [
    "# ----- Tabs handling -----\n",
    "print(\"a\\tb\\tc\".expandtabs(4))        # columns every 4 spaces\n",
    "\n",
    "# ----- Prefix/Suffix removal (Py 3.9+) -----\n",
    "print(\"unhappy\".removeprefix(\"un\"))   # happy\n",
    "print(\"file.txt\".removesuffix(\".txt\"))# file"
   ]
  }
 ],
 "metadata": {
  "kernelspec": {
   "display_name": "base",
   "language": "python",
   "name": "python3"
  },
  "language_info": {
   "codemirror_mode": {
    "name": "ipython",
    "version": 3
   },
   "file_extension": ".py",
   "mimetype": "text/x-python",
   "name": "python",
   "nbconvert_exporter": "python",
   "pygments_lexer": "ipython3",
   "version": "3.13.5"
  }
 },
 "nbformat": 4,
 "nbformat_minor": 5
}
