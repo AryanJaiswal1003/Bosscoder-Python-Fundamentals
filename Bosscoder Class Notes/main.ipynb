{
 "cells": [
  {
   "cell_type": "code",
   "execution_count": 9,
   "id": "34b6c72a",
   "metadata": {},
   "outputs": [],
   "source": [
    "# --------------------- UNDERSTANDING STRINGS ---------------------\n",
    "\n",
    "# Anything which is enclosed under single, double or triple quotes.\n",
    "\n",
    "#Properties: -\n",
    "#1. Immutable.\n",
    "#2. Ordered.\n"
   ]
  },
  {
   "cell_type": "code",
   "execution_count": 8,
   "id": "371ea2c5",
   "metadata": {},
   "outputs": [],
   "source": [
    "# Single_Quotes Notation: a = 'Python',\n",
    "# Double_Quotes Notation: b = \"Hello World\",\n",
    "# Triple_Quotes Notation: Used for creating Multi-line strings \n",
    "# Eg:\n",
    "c = \"\"\"Hello Everyone its' Aryan Jaiswal.\n",
    "        I am currently living in New Delhi for past 5 years.\"\"\""
   ]
  },
  {
   "cell_type": "code",
   "execution_count": 17,
   "id": "6f697f8a",
   "metadata": {},
   "outputs": [
    {
     "name": "stdout",
     "output_type": "stream",
     "text": [
      "o\n",
      "l\n",
      "Hlo\n"
     ]
    }
   ],
   "source": [
    "# --------------------- STRING SLICING ---------------------\n",
    "b = \"Hello World\"\n",
    "\n",
    "print(b[4])\n",
    "print(b[-2])\n",
    "print(b[0: 5: 2])"
   ]
  },
  {
   "cell_type": "code",
   "execution_count": 18,
   "id": "33c9c27f",
   "metadata": {},
   "outputs": [
    {
     "name": "stdout",
     "output_type": "stream",
     "text": [
      "Aryan Jaiswal\n"
     ]
    }
   ],
   "source": [
    "# --------------------- CONCATENATING STRINGS ---------------------\n",
    "\n",
    "first_name = \"Aryan\"\n",
    "last_name = \"Jaiswal\"\n",
    "\n",
    "full_name = first_name + \" \"+ last_name\n",
    "print(full_name)"
   ]
  },
  {
   "cell_type": "code",
   "execution_count": 20,
   "id": "779ef9e7",
   "metadata": {},
   "outputs": [
    {
     "name": "stdout",
     "output_type": "stream",
     "text": [
      "13\n"
     ]
    }
   ],
   "source": [
    "# --------------------- LENGHT OF THE STRING [len Function] ---------------------\n",
    "full_name = \"Aryan Jaiswal\"\n",
    "\n",
    "print(len(full_name))"
   ]
  },
  {
   "cell_type": "code",
   "execution_count": 25,
   "id": "4738f671",
   "metadata": {},
   "outputs": [
    {
     "name": "stdout",
     "output_type": "stream",
     "text": [
      "Aryan Jaiswal\n",
      "Aryan Jaiswal        \n",
      "        Aryan Jaiswal\n"
     ]
    }
   ],
   "source": [
    "# STRIP FUNCTION\n",
    "\n",
    "str = \"        Aryan Jaiswal        \"\n",
    "\n",
    "print(str.strip())\n",
    "print(str.lstrip())\n",
    "print(str.rstrip())"
   ]
  },
  {
   "cell_type": "code",
   "execution_count": 32,
   "id": "8b2edc42",
   "metadata": {},
   "outputs": [
    {
     "name": "stdout",
     "output_type": "stream",
     "text": [
      "8\n"
     ]
    }
   ],
   "source": [
    "# Find functions: -\n",
    "str = \"Hi, How are You?\"\n",
    "\n",
    "print(str.find(\"are\"))"
   ]
  },
  {
   "cell_type": "code",
   "execution_count": 34,
   "id": "56981e38",
   "metadata": {},
   "outputs": [
    {
     "name": "stdout",
     "output_type": "stream",
     "text": [
      "['This', 'is', 'a', 'Python', 'Program', 'Language']\n"
     ]
    }
   ],
   "source": [
    "sent = \"This is a Python Program Language\"\n",
    "\n",
    "words = sent.split()\n",
    "print(words)"
   ]
  },
  {
   "cell_type": "code",
   "execution_count": 36,
   "id": "f364bc92",
   "metadata": {},
   "outputs": [
    {
     "name": "stdout",
     "output_type": "stream",
     "text": [
      "This is a Python Program Language\n"
     ]
    }
   ],
   "source": [
    "join_sen = \" \".join(words)\n",
    "print(join_sen)"
   ]
  },
  {
   "cell_type": "code",
   "execution_count": 38,
   "id": "c749c998",
   "metadata": {},
   "outputs": [
    {
     "name": "stdout",
     "output_type": "stream",
     "text": [
      "Lower Function: this is a python program language\n",
      "Upper Function: THIS IS A PYTHON PROGRAM LANGUAGE\n",
      "Title Function: This Is A Python Program Language\n",
      "Capitalize Function: This is a python program language\n"
     ]
    }
   ],
   "source": [
    "print(f\"Lower Function: {join_sen.lower()}\")\n",
    "print(f\"Upper Function: {join_sen.upper()}\")\n",
    "print(f\"Title Function: {join_sen.title()}\")\n",
    "print(f\"Capitalize Function: {join_sen.capitalize()}\")"
   ]
  },
  {
   "cell_type": "code",
   "execution_count": 42,
   "id": "e2567f99",
   "metadata": {},
   "outputs": [
    {
     "name": "stdout",
     "output_type": "stream",
     "text": [
      "Method_1 [f-string]: My Name is Aryan Jaiswal & I'm Currently 25 years old!!\n",
      "Method_2 [format-method]: My Name is Aryan Jaiswal & I'm Currently 25 years old!!\n"
     ]
    }
   ],
   "source": [
    "name = \"Aryan Jaiswal\"\n",
    "age = 25\n",
    "\n",
    "formatted_str_1 = f\"My Name is {name} & I'm Currently {age} years old!!\"\n",
    "formatted_str_2 = \"My Name is {} & I'm Currently {} years old!!\".format(name, age)\n",
    "\n",
    "print(f\"Method_1 [f-string]: {formatted_str_1}\")\n",
    "print(f\"Method_2 [format-method]: {formatted_str_2}\")"
   ]
  },
  {
   "cell_type": "code",
   "execution_count": 44,
   "id": "995c3e00",
   "metadata": {},
   "outputs": [
    {
     "name": "stdout",
     "output_type": "stream",
     "text": [
      "Hey Everyone!!\n",
      "My Name is Aryan Jaiswal\n",
      "Currently I am learning Data Science @Bosscoder.\n"
     ]
    }
   ],
   "source": [
    "text = \"Hey Everyone!!\\nMy Name is Aryan Jaiswal\\nCurrently I am learning Data Science @Bosscoder.\"\n",
    "print(text)"
   ]
  },
  {
   "cell_type": "code",
   "execution_count": null,
   "id": "f3e6928e",
   "metadata": {},
   "outputs": [
    {
     "name": "stdout",
     "output_type": "stream",
     "text": [
      "Hello\tWorld\tHello\tFriends\n"
     ]
    }
   ],
   "source": [
    "#TAB FUNCION\n",
    "text = \"Hello\\tWorld\\tHello\\tFriends\"\n",
    "\n",
    "print(text)"
   ]
  },
  {
   "cell_type": "code",
   "execution_count": 46,
   "id": "f2417ab3",
   "metadata": {},
   "outputs": [
    {
     "name": "stdout",
     "output_type": "stream",
     "text": [
      "It's Python Programming Language..\n"
     ]
    }
   ],
   "source": [
    "#SLASHING METHOD\n",
    "text = 'It\\'s Python Programming Language..'\n",
    "print(text)"
   ]
  },
  {
   "cell_type": "code",
   "execution_count": 47,
   "id": "5fd3f987",
   "metadata": {},
   "outputs": [
    {
     "name": "stdout",
     "output_type": "stream",
     "text": [
      "True\n"
     ]
    }
   ],
   "source": [
    "word1 = \"hello\"\n",
    "word2 = \"Hello\"\n",
    "\n",
    "print(word1.lower() == word2.lower())"
   ]
  },
  {
   "cell_type": "code",
   "execution_count": 52,
   "id": "af976b16",
   "metadata": {},
   "outputs": [
    {
     "name": "stdout",
     "output_type": "stream",
     "text": [
      "False\n",
      "True\n"
     ]
    }
   ],
   "source": [
    "str = \"abc25464\"\n",
    "\n",
    "print(str.isalpha())\n",
    "print(str.isalnum())"
   ]
  },
  {
   "cell_type": "code",
   "execution_count": 61,
   "id": "8f41235e",
   "metadata": {},
   "outputs": [
    {
     "name": "stdout",
     "output_type": "stream",
     "text": [
      "Missing values: {6, 7}\n"
     ]
    }
   ],
   "source": [
    "# Find missing values without using a for loop\n",
    "input = [3, 0, 1, 4, 2, 5, 2, 4]\n",
    "n = len(input)\n",
    "\n",
    "expected_set = set(range(n))\n",
    "\n",
    "missing_values = set(expected_set) - set(input)\n",
    "print(\"Missing values:\", missing_values)\n",
    "\n"
   ]
  },
  {
   "cell_type": "code",
   "execution_count": null,
   "id": "bf8bee72",
   "metadata": {},
   "outputs": [],
   "source": []
  }
 ],
 "metadata": {
  "kernelspec": {
   "display_name": "base",
   "language": "python",
   "name": "python3"
  },
  "language_info": {
   "codemirror_mode": {
    "name": "ipython",
    "version": 3
   },
   "file_extension": ".py",
   "mimetype": "text/x-python",
   "name": "python",
   "nbconvert_exporter": "python",
   "pygments_lexer": "ipython3",
   "version": "3.13.5"
  }
 },
 "nbformat": 4,
 "nbformat_minor": 5
}
