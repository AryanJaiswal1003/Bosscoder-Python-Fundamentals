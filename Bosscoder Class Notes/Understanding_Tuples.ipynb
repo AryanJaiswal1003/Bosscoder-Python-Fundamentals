{
 "cells": [
  {
   "cell_type": "code",
   "execution_count": 1,
   "id": "7379d620",
   "metadata": {},
   "outputs": [],
   "source": [
    "# ------------------------------ UNDERSTANDING TUPLES  ------------------------------\n",
    "# Tuples are immutable sequences in Python.\n",
    "# Denoted by parentheses () [Optional – commas are sufficient]."
   ]
  },
  {
   "cell_type": "code",
   "execution_count": 2,
   "id": "a1d0b750",
   "metadata": {},
   "outputs": [],
   "source": [
    "#  ------------------------------ Properties of Tuples: ------------------------------\n",
    "# 1. Ordered Elements & have Defined Index.\n",
    "# 2. Immutable – Once Created, cannot be modified (no add, alter, or delete).\n",
    "# 3. Allows Duplicates.\n",
    "# 4. Heterogeneous – can store multiple data structures."
   ]
  },
  {
   "cell_type": "code",
   "execution_count": 3,
   "id": "03d28ac3",
   "metadata": {},
   "outputs": [
    {
     "name": "stdout",
     "output_type": "stream",
     "text": [
      "Tuple from list: (2, 4, 6)\n"
     ]
    }
   ],
   "source": [
    "#1. Converting a list into a tuple: -\n",
    "lst = [2, 4, 6]\n",
    "\n",
    "tup = tuple(lst)\n",
    "print(\"Tuple from list:\", tup)"
   ]
  },
  {
   "cell_type": "code",
   "execution_count": 4,
   "id": "a3805fb9",
   "metadata": {},
   "outputs": [
    {
     "name": "stdout",
     "output_type": "stream",
     "text": [
      "Tuple without parentheses: (2, 4, 6)\n",
      "Type: <class 'tuple'>\n"
     ]
    }
   ],
   "source": [
    "\n",
    "# Creating a tuple without parentheses (comma is mandatory)\n",
    "tup = 2, 4, 6\n",
    "\n",
    "print(\"Tuple without parentheses:\", tup)\n",
    "print(\"Type:\", type(tup))"
   ]
  },
  {
   "cell_type": "code",
   "execution_count": 8,
   "id": "75e79259",
   "metadata": {},
   "outputs": [
    {
     "name": "stdout",
     "output_type": "stream",
     "text": [
      "Tuple from string: ('h', 'e', 'l', 'l', 'o')\n",
      "Second element: e\n"
     ]
    }
   ],
   "source": [
    "# Converting a string into a tuple\n",
    "string = \"hello\"\n",
    "\n",
    "hello_tup = tuple(string)\n",
    "print(\"Tuple from string:\", hello_tup)\n",
    "\n",
    "# Indexing in tuple\n",
    "print(\"Second element:\", hello_tup[1])"
   ]
  },
  {
   "cell_type": "code",
   "execution_count": 7,
   "id": "75dda9a4",
   "metadata": {},
   "outputs": [
    {
     "name": "stdout",
     "output_type": "stream",
     "text": [
      "Concatenated and repeated tuple: (1, 2, 3, 4, 5, 6, 1, 2, 3, 4, 5, 6, 1, 2, 3, 4, 5, 6)\n",
      "Repeated tuple: (1, 2, 3, 1, 2, 3, 1, 2, 3)\n"
     ]
    }
   ],
   "source": [
    "# Tuple concatenation and repetition\n",
    "tup_1 = (1, 2, 3)\n",
    "tup_2 = (4, 5, 6)\n",
    "\n",
    "tuple_concat = (tup_1 + tup_2) * 3\n",
    "print(\"Concatenated and repeated tuple:\", tuple_concat)\n",
    "\n",
    "# Repeating a tuple\n",
    "print(\"Repeated tuple:\", tup_1 * 3)"
   ]
  },
  {
   "cell_type": "code",
   "execution_count": 9,
   "id": "d837a047",
   "metadata": {},
   "outputs": [
    {
     "name": "stdout",
     "output_type": "stream",
     "text": [
      "Count of 3: 3\n",
      "Index of 6 (starting from pos 6): 11\n",
      "Length of tuple_concat: 18\n"
     ]
    }
   ],
   "source": [
    "# ------------------------ TUPLE METHODS ------------------------------\n",
    "\n",
    "#I] count(): Returns the number of occurrences of a value\n",
    "count = tuple_concat.count(3)\n",
    "print(\"Count of 3:\", count)\n",
    "\n",
    "#II] index(): Returns the first index of a value (can provide start index)\n",
    "index = tuple_concat.index(6, 6)\n",
    "print(\"Index of 6 (starting from pos 6):\", index)\n",
    "\n",
    "#III] len(): Returns the length of a tuple\n",
    "print(\"Length of tuple_concat:\", len(tuple_concat))"
   ]
  },
  {
   "cell_type": "code",
   "execution_count": 10,
   "id": "4a5fecd7",
   "metadata": {},
   "outputs": [
    {
     "name": "stdout",
     "output_type": "stream",
     "text": [
      "Name: rahul\n",
      "Age: 30\n",
      "Profession: SDE\n"
     ]
    }
   ],
   "source": [
    "# ----------------------- TUPLE UNPACKING ------------------------------\n",
    "tuple_example = (\"rahul\", 30, \"SDE\")\n",
    "\n",
    "name, age, prof = tuple_example\n",
    "print(\"Name:\", name)\n",
    "print(\"Age:\", age)\n",
    "print(\"Profession:\", prof)"
   ]
  },
  {
   "cell_type": "code",
   "execution_count": 11,
   "id": "70fed677",
   "metadata": {},
   "outputs": [
    {
     "name": "stdout",
     "output_type": "stream",
     "text": [
      "Name: Aryan Jaiswal, Age: 25, Profession: SDE, Company: PayPal\n"
     ]
    }
   ],
   "source": [
    "# ------------------- FUNCTION RETURNING TUPLE -------------------------\n",
    "def person_details():\n",
    "    \"\"\"Returns a tuple of person details\"\"\"\n",
    "    return (\"Aryan Jaiswal\", 25, \"SDE\", \"PayPal\")\n",
    "\n",
    "\n",
    "name, age, prof, company = person_details()\n",
    "print(f\"Name: {name}, Age: {age}, Profession: {prof}, Company: {company}\")"
   ]
  }
 ],
 "metadata": {
  "kernelspec": {
   "display_name": "base",
   "language": "python",
   "name": "python3"
  },
  "language_info": {
   "codemirror_mode": {
    "name": "ipython",
    "version": 3
   },
   "file_extension": ".py",
   "mimetype": "text/x-python",
   "name": "python",
   "nbconvert_exporter": "python",
   "pygments_lexer": "ipython3",
   "version": "3.13.5"
  }
 },
 "nbformat": 4,
 "nbformat_minor": 5
}
