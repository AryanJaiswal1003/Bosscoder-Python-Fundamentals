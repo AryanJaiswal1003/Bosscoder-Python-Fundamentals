{
 "cells": [
  {
   "cell_type": "code",
   "execution_count": 1,
   "id": "13ee5de2-2ccd-4eed-87e2-664753eba1c7",
   "metadata": {},
   "outputs": [],
   "source": [
    "# PYTHON FUNDAMENTALS III"
   ]
  },
  {
   "cell_type": "code",
   "execution_count": 6,
   "id": "76bf79ab-6707-4857-87e9-68bb6034b7a5",
   "metadata": {},
   "outputs": [
    {
     "name": "stdin",
     "output_type": "stream",
     "text": [
      "Enter a Number 15\n"
     ]
    },
    {
     "name": "stdout",
     "output_type": "stream",
     "text": [
      "15, <class 'int'>\n"
     ]
    }
   ],
   "source": [
    "# INPUT FUNCTION: Allow user to interact with the system making the code more user centric. Note: Default behavior of input() function is \"String\", \n",
    "        # there is a need to type cast the data type when working with diff data types.\n",
    "\n",
    "a = int(input(\"Enter a Number\"))\n",
    "print(f\"{a}, {type(a)}\")"
   ]
  },
  {
   "cell_type": "code",
   "execution_count": null,
   "id": "0e196f68-8a76-4a60-8eb3-27216db1948c",
   "metadata": {},
   "outputs": [],
   "source": []
  },
  {
   "cell_type": "code",
   "execution_count": 10,
   "id": "d2914056-ca96-444a-9974-1c44e25b103e",
   "metadata": {},
   "outputs": [],
   "source": [
    "# CONDITIONAL STATEMENTS:\n",
    "    # IF statement: Runs a block of code only if a condition is True.\n",
    "    # IF-ELSE statement: Runs one block if condition is True, otherwise another block.\n",
    "    # IF-ELIF-ELSE chain: Check for multiple conditions, one after another.\n",
    "    # NESTED IF: An if inside another if."
   ]
  },
  {
   "cell_type": "code",
   "execution_count": 18,
   "id": "c70fe9d3-9350-40e1-a323-02c5c28b28b7",
   "metadata": {},
   "outputs": [
    {
     "name": "stdin",
     "output_type": "stream",
     "text": [
      "Enter your Age 18\n"
     ]
    },
    {
     "name": "stdout",
     "output_type": "stream",
     "text": [
      "You are Eligible to Vote\n",
      "Thank You!!\n"
     ]
    }
   ],
   "source": [
    "# Example 1:\n",
    "age = int(input(\"Enter your Age\" ))\n",
    "\n",
    "if age >= 18:\n",
    "    print(\"You are Eligible to Vote\")\n",
    "else:\n",
    "    print(\"You are Not Eligible to Vote\")\n",
    "print(\"Thank You!!\") # --> Since being outside of the if-else block no matter what is the Result it will always execute"
   ]
  },
  {
   "cell_type": "code",
   "execution_count": 17,
   "id": "896336bb-e66b-4275-94b1-59c8f614043c",
   "metadata": {},
   "outputs": [
    {
     "name": "stdin",
     "output_type": "stream",
     "text": [
      "Enter your Age 15\n",
      "Enter Country:  india\n"
     ]
    },
    {
     "name": "stdout",
     "output_type": "stream",
     "text": [
      "You are Not Eligible to Vote\n"
     ]
    }
   ],
   "source": [
    "# Example 2:\n",
    "age = int(input(\"Enter your Age\" ))\n",
    "country = input(\"Enter Country: \").lower()\n",
    "\n",
    "if age >= 18 and country == \"india\":\n",
    "    print(\"You are Eligible to Vote\")\n",
    "else:\n",
    "    print(\"You are Not Eligible to Vote\")"
   ]
  },
  {
   "cell_type": "code",
   "execution_count": 20,
   "id": "1836c3f8-486f-4193-b3a4-bc01ef4c03d0",
   "metadata": {},
   "outputs": [
    {
     "name": "stdin",
     "output_type": "stream",
     "text": [
      "Enter Marks:  85\n"
     ]
    },
    {
     "name": "stdout",
     "output_type": "stream",
     "text": [
      "Grade B\n"
     ]
    }
   ],
   "source": [
    "# Example 3:\n",
    "m = int(input(\"Enter Marks: \"))\n",
    "\n",
    "if m >= 90:\n",
    "    print(\"Grade A\")\n",
    "elif m >= 75:\n",
    "    print(\"Grade B\")\n",
    "elif m >= 60:\n",
    "    print(\"Grade C\")\n",
    "else:\n",
    "    print(\"Grade D\")"
   ]
  },
  {
   "cell_type": "code",
   "execution_count": 22,
   "id": "c2fdfb74-9bc5-4770-8026-ea4c277dca44",
   "metadata": {},
   "outputs": [
    {
     "name": "stdin",
     "output_type": "stream",
     "text": [
      "Enter your Order Amount: Rs.  1000\n"
     ]
    },
    {
     "name": "stdout",
     "output_type": "stream",
     "text": [
      "You'll get 20% Discount. Final Bill: Rs. 800.0\n"
     ]
    }
   ],
   "source": [
    "# Example 4:\n",
    "order_amount = float(input(\"Enter your Order Amount: Rs. \"))\n",
    "final_amount = 0\n",
    "\n",
    "if order_amount >= 500:\n",
    "    final_amount = round(order_amount * 0.8, 2)\n",
    "elif order_amount >= 250:\n",
    "    final_amount = round(order_amount * 0.9, 2)\n",
    "else:\n",
    "    print(\"No Discount, but Thank You for Ordering!!\")\n",
    "print(f\"You'll get 20% Discount. Final Bill: Rs. {final_amount}\")"
   ]
  },
  {
   "cell_type": "code",
   "execution_count": 24,
   "id": "4f93785d-827d-4d88-b4d8-1ac2ef343143",
   "metadata": {},
   "outputs": [
    {
     "name": "stdin",
     "output_type": "stream",
     "text": [
      "Enter a Number:  15\n"
     ]
    },
    {
     "name": "stdout",
     "output_type": "stream",
     "text": [
      "Odd Number\n"
     ]
    }
   ],
   "source": [
    "# Q1. Ask the user for a number and print whether it’s even or odd?\n",
    "num = int(input(\"Enter a Number: \"))\n",
    "\n",
    "if num % 2 == 0:\n",
    "    print(\"Even Number\")\n",
    "else:\n",
    "    print(\"Odd Number\")"
   ]
  },
  {
   "cell_type": "code",
   "execution_count": 2,
   "id": "5c2007f6-75ad-4f4e-b83c-e2e11aa83dff",
   "metadata": {},
   "outputs": [
    {
     "name": "stdin",
     "output_type": "stream",
     "text": [
      "Enter First Number:  50\n",
      "Enter Second Number:  30\n"
     ]
    },
    {
     "name": "stdout",
     "output_type": "stream",
     "text": [
      "50 is Greater than 30\n"
     ]
    }
   ],
   "source": [
    "# Q2. Take two numbers as input and print the larger one?\n",
    "num1 = int(input(\"Enter First Number: \"))\n",
    "num2 = int(input(\"Enter Second Number: \"))\n",
    "\n",
    "if num1 == num2:\n",
    "    print(\"Both the Numbers are Equal\")\n",
    "elif num1 > num2:\n",
    "    print(f\"{num1} is Greater than {num2}\")\n",
    "else:\n",
    "    print(f\"{num2} is Greater than {num1}\")\n"
   ]
  },
  {
   "cell_type": "code",
   "execution_count": 5,
   "id": "9a48103a-9772-4319-93a5-a99bb4eb8167",
   "metadata": {},
   "outputs": [
    {
     "name": "stdin",
     "output_type": "stream",
     "text": [
      "Enter a Number:  -98\n"
     ]
    },
    {
     "name": "stdout",
     "output_type": "stream",
     "text": [
      "-98 is a Negative Number\n"
     ]
    }
   ],
   "source": [
    "# Q3. Ask the user for a number and tell whether it’s positive, negative, or zero?\n",
    "num = int(input(\"Enter a Number: \"))\n",
    "\n",
    "if num > 0:\n",
    "    print(f\"{num} is a Positive Number\")\n",
    "elif num < 0:\n",
    "    print(f\"{num} is a Negative Number\")\n",
    "else:\n",
    "    print(\"It's a Zero\")"
   ]
  },
  {
   "cell_type": "code",
   "execution_count": 7,
   "id": "f1b595f7-e1fe-4d0c-a62f-edaf2c7acc87",
   "metadata": {},
   "outputs": [
    {
     "name": "stdin",
     "output_type": "stream",
     "text": [
      "Enter the Password:  T@gmahal\n"
     ]
    },
    {
     "name": "stdout",
     "output_type": "stream",
     "text": [
      "The Password is Correct & Matches with the Stored Password\n"
     ]
    }
   ],
   "source": [
    "# Q4. Ask the user for a password and check if it matches the stored one?\n",
    "user_password = input(\"Enter the Password: \")\n",
    "\n",
    "if user_password == 'T@gmahal':\n",
    "    print(\"The Password is Correct & Matches with the Stored Password\")\n",
    "else:\n",
    "    print(\"The Entered Password is Incorrect!!\")"
   ]
  },
  {
   "cell_type": "code",
   "execution_count": 8,
   "id": "16f3fc5e-6609-4ff5-a828-4f01e87df865",
   "metadata": {},
   "outputs": [
    {
     "name": "stdin",
     "output_type": "stream",
     "text": [
      "Enter Today's Temperature (in Celsius):  20\n"
     ]
    },
    {
     "name": "stdout",
     "output_type": "stream",
     "text": [
      "The temperature outside is cold.\n"
     ]
    }
   ],
   "source": [
    "# Q5. Ask the user for today’s temperature (°C) and check if it’s hot (above 30°C) or cold?\n",
    "current_temp = float(input(\"Enter Today's Temperature (in Celsius): \"))\n",
    "\n",
    "if current_temp > 30:\n",
    "    print(\"It's a Sunny Day Outside!!\")\n",
    "else:\n",
    "    print(\"The temperature outside is cold.\")"
   ]
  },
  {
   "cell_type": "code",
   "execution_count": 10,
   "id": "b5b98c63-8eb9-4e6c-ba7e-e8c7b794bd0a",
   "metadata": {},
   "outputs": [
    {
     "name": "stdin",
     "output_type": "stream",
     "text": [
      "Enter a Number:  20.1\n"
     ]
    },
    {
     "name": "stdout",
     "output_type": "stream",
     "text": [
      "The 20.1 is not Divisible by 5.\n"
     ]
    }
   ],
   "source": [
    "# Q6. Ask the user for a number and check if it is divisible by 5?\n",
    "num = float(input(\"Enter a Number: \"))\n",
    "\n",
    "if num % 5 == 0.0:\n",
    "    print(f\"The {num} is Divisible by 5.\")\n",
    "else:\n",
    "    print(f\"The {num} is not Divisible by 5.\")"
   ]
  },
  {
   "cell_type": "code",
   "execution_count": 11,
   "id": "3648c22b-2be8-4b91-8a8c-473b537982f1",
   "metadata": {},
   "outputs": [
    {
     "name": "stdin",
     "output_type": "stream",
     "text": [
      "Enter the First Number:  10\n",
      "Enter the Second Number:  20\n",
      "Enter the Third Number:  30\n"
     ]
    },
    {
     "name": "stdout",
     "output_type": "stream",
     "text": [
      "30 is greater than 10 & 20\n"
     ]
    }
   ],
   "source": [
    "# Q7: Take 3 numbers input and print the largest one of them?\n",
    "num1 = int(input(\"Enter the First Number: \"))\n",
    "num2 = int(input(\"Enter the Second Number: \"))\n",
    "num3 = int(input(\"Enter the Third Number: \"))\n",
    "\n",
    "if num1 > num2 and num1 > num3:\n",
    "    print(f\"{num1} is greater than both {num2} & {num3}\")\n",
    "elif num2 > num1 and num2 > num3:\n",
    "    print(f\"{num2} is greatest number amongst {num1} & {num3}\")\n",
    "else:\n",
    "    print(f\"{num3} is greater than {num1} & {num2}\")"
   ]
  },
  {
   "cell_type": "code",
   "execution_count": null,
   "id": "96002b81-0ea9-44af-a4fb-c482fee5fd13",
   "metadata": {},
   "outputs": [],
   "source": []
  }
 ],
 "metadata": {
  "kernelspec": {
   "display_name": "Python [conda env:base] *",
   "language": "python",
   "name": "conda-base-py"
  },
  "language_info": {
   "codemirror_mode": {
    "name": "ipython",
    "version": 3
   },
   "file_extension": ".py",
   "mimetype": "text/x-python",
   "name": "python",
   "nbconvert_exporter": "python",
   "pygments_lexer": "ipython3",
   "version": "3.13.5"
  }
 },
 "nbformat": 4,
 "nbformat_minor": 5
}
